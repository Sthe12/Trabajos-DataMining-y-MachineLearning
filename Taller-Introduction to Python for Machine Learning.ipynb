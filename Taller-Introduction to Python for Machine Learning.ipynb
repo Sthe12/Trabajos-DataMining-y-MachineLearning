{
 "cells": [
  {
   "cell_type": "code",
   "execution_count": 1,
   "id": "6220bdba",
   "metadata": {
    "_cell_guid": "b1076dfc-b9ad-4769-8c92-a6c4dae69d19",
    "_uuid": "8f2839f25d086af736a60e9eeb907d3b93b6e0e5",
    "execution": {
     "iopub.execute_input": "2023-05-24T16:09:45.500044Z",
     "iopub.status.busy": "2023-05-24T16:09:45.499508Z",
     "iopub.status.idle": "2023-05-24T16:09:45.533753Z",
     "shell.execute_reply": "2023-05-24T16:09:45.532729Z"
    },
    "papermill": {
     "duration": 0.044849,
     "end_time": "2023-05-24T16:09:45.536553",
     "exception": false,
     "start_time": "2023-05-24T16:09:45.491704",
     "status": "completed"
    },
    "tags": []
   },
   "outputs": [
    {
     "name": "stdout",
     "output_type": "stream",
     "text": [
      "/kaggle/input/network/Network.csv\n",
      "/kaggle/input/servicearea/ServiceArea.csv\n"
     ]
    }
   ],
   "source": [
    "# This Python 3 environment comes with many helpful analytics libraries installed\n",
    "# It is defined by the kaggle/python Docker image: https://github.com/kaggle/docker-python\n",
    "# For example, here's several helpful packages to load\n",
    "\n",
    "import numpy as np # linear algebra\n",
    "import pandas as pd # data processing, CSV file I/O (e.g. pd.read_csv)\n",
    "\n",
    "# Input data files are available in the read-only \"../input/\" directory\n",
    "# For example, running this (by clicking run or pressing Shift+Enter) will list all files under the input directory\n",
    "\n",
    "import os\n",
    "for dirname, _, filenames in os.walk('/kaggle/input'):\n",
    "    for filename in filenames:\n",
    "        print(os.path.join(dirname, filename))\n",
    "\n",
    "# You can write up to 20GB to the current directory (/kaggle/working/) that gets preserved as output when you create a version using \"Save & Run All\" \n",
    "# You can also write temporary files to /kaggle/temp/, but they won't be saved outside of the current session"
   ]
  },
  {
   "cell_type": "markdown",
   "id": "5db0c70d",
   "metadata": {
    "papermill": {
     "duration": 0.005166,
     "end_time": "2023-05-24T16:09:45.547393",
     "exception": false,
     "start_time": "2023-05-24T16:09:45.542227",
     "status": "completed"
    },
    "tags": []
   },
   "source": [
    "# # # **Introduction to Python for Machine Learning**\n"
   ]
  },
  {
   "cell_type": "markdown",
   "id": "29cd0308",
   "metadata": {
    "papermill": {
     "duration": 0.005229,
     "end_time": "2023-05-24T16:09:45.558234",
     "exception": false,
     "start_time": "2023-05-24T16:09:45.553005",
     "status": "completed"
    },
    "tags": []
   },
   "source": [
    "**Create an array of 10 random integers between 1 and 100, and then calculate the mean and\n",
    "standard deviation of the array.**\n"
   ]
  },
  {
   "cell_type": "code",
   "execution_count": 2,
   "id": "99edb768",
   "metadata": {
    "execution": {
     "iopub.execute_input": "2023-05-24T16:09:45.570887Z",
     "iopub.status.busy": "2023-05-24T16:09:45.570447Z",
     "iopub.status.idle": "2023-05-24T16:09:45.580076Z",
     "shell.execute_reply": "2023-05-24T16:09:45.579184Z"
    },
    "papermill": {
     "duration": 0.019069,
     "end_time": "2023-05-24T16:09:45.582779",
     "exception": false,
     "start_time": "2023-05-24T16:09:45.563710",
     "status": "completed"
    },
    "tags": []
   },
   "outputs": [
    {
     "name": "stdout",
     "output_type": "stream",
     "text": [
      "[ 3 12 51 53 84  6 99 74 92 49]\n",
      "52.3\n",
      "33.82912945968311\n"
     ]
    }
   ],
   "source": [
    "#Create an array of 10 random integers between 1 and 100\n",
    "array = np.random.randint(1,high=101,size=10)\n",
    "print(array)\n",
    "#and then calculate the mean\n",
    "mean = np.mean(array)\n",
    "print(mean)\n",
    "#and standard deviation of the array\n",
    "deviation =np.std(array)\n",
    "print(deviation)"
   ]
  },
  {
   "cell_type": "markdown",
   "id": "ac69b05f",
   "metadata": {
    "papermill": {
     "duration": 0.005254,
     "end_time": "2023-05-24T16:09:45.593792",
     "exception": false,
     "start_time": "2023-05-24T16:09:45.588538",
     "status": "completed"
    },
    "tags": []
   },
   "source": [
    "**Create a 2-dimensional array of 3 rows and 4 columns with random integer values. Then, calculate\n",
    "the sum of each row and column.**"
   ]
  },
  {
   "cell_type": "code",
   "execution_count": 3,
   "id": "a8813c47",
   "metadata": {
    "execution": {
     "iopub.execute_input": "2023-05-24T16:09:45.606746Z",
     "iopub.status.busy": "2023-05-24T16:09:45.606339Z",
     "iopub.status.idle": "2023-05-24T16:09:45.614359Z",
     "shell.execute_reply": "2023-05-24T16:09:45.612841Z"
    },
    "papermill": {
     "duration": 0.017238,
     "end_time": "2023-05-24T16:09:45.616597",
     "exception": false,
     "start_time": "2023-05-24T16:09:45.599359",
     "status": "completed"
    },
    "tags": []
   },
   "outputs": [
    {
     "name": "stdout",
     "output_type": "stream",
     "text": [
      "[[4 6 1 7]\n",
      " [4 9 9 6]\n",
      " [2 1 3 1]]\n",
      "Suma de la Fila [18 28  7]\n",
      "Suma de la Columna [10 16 13 14]\n"
     ]
    }
   ],
   "source": [
    "#Create a 2-dimensional array of 3 rows and 4 columns with random integer values. \n",
    "array = np.random.randint(1, 10, (3, 4))\n",
    "print(array)\n",
    "#Then, calculate the sum of each row and column.\n",
    "# calculate the sum of each row\n",
    "row = np.sum(array, axis=1)\n",
    "print(\"Suma de la Fila\",row)\n",
    "# calculate the sum of each column\n",
    "column= np.sum(array, axis=0)\n",
    "print(\"Suma de la Columna\",column)"
   ]
  },
  {
   "cell_type": "markdown",
   "id": "1749b960",
   "metadata": {
    "papermill": {
     "duration": 0.0053,
     "end_time": "2023-05-24T16:09:45.627533",
     "exception": false,
     "start_time": "2023-05-24T16:09:45.622233",
     "status": "completed"
    },
    "tags": []
   },
   "source": [
    "**Create a DataFrame with 3 columns: \"Name\", \"Age\", and \"City\". Add at least 5 rows of data to the\n",
    "DataFrame. Then, filter the DataFrame to only include rows where the person's age is greater than\n",
    "or equal to 30.**"
   ]
  },
  {
   "cell_type": "code",
   "execution_count": 4,
   "id": "769e74a8",
   "metadata": {
    "execution": {
     "iopub.execute_input": "2023-05-24T16:09:45.640661Z",
     "iopub.status.busy": "2023-05-24T16:09:45.640267Z",
     "iopub.status.idle": "2023-05-24T16:09:45.673724Z",
     "shell.execute_reply": "2023-05-24T16:09:45.672597Z"
    },
    "papermill": {
     "duration": 0.044005,
     "end_time": "2023-05-24T16:09:45.677046",
     "exception": false,
     "start_time": "2023-05-24T16:09:45.633041",
     "status": "completed"
    },
    "tags": []
   },
   "outputs": [
    {
     "name": "stdout",
     "output_type": "stream",
     "text": [
      "     Name  Age    City\n",
      "0   Pedro   25   Tokio\n",
      "1  Dayana   21   Paris\n",
      "2   Jordy   28  La Paz\n",
      "3   Stefy   37  Bogota\n",
      "4    Juan   42  Ottawa\n",
      "\n",
      "     Name  Age    City\n",
      "3  Stefy   37  Bogota\n",
      "4   Juan   42  Ottawa\n"
     ]
    }
   ],
   "source": [
    "# Create a DataFrame with 3 columns and add least 5 rows of data to the DataFrame\n",
    "data = {\n",
    "    \"Name\": [\"Pedro\", \"Dayana\", \"Jordy\", \"Stefy\", \"Juan\"],\n",
    "    \"Age\": [25, 21, 28, 37, 42],\n",
    "    \"City\": [\"Tokio\", \"Paris\", \"La Paz\", \"Bogota\", \"Ottawa\"]\n",
    "}\n",
    "df = pd.DataFrame(data)\n",
    "print(df)\n",
    "#filter the DataFrame to only include rows where the person's age is greater than or equal to 30.\n",
    "filtrarAño = df[df[\"Age\"] >= 30]\n",
    "print(\"\\n\",filtrarAño)"
   ]
  },
  {
   "cell_type": "markdown",
   "id": "898cb928",
   "metadata": {
    "papermill": {
     "duration": 0.00554,
     "end_time": "2023-05-24T16:09:45.688543",
     "exception": false,
     "start_time": "2023-05-24T16:09:45.683003",
     "status": "completed"
    },
    "tags": []
   },
   "source": [
    "**Load a CSV file into a DataFrame and then calculate the mean, median, and mode of one of the\n",
    "columns in the DataFrame**"
   ]
  },
  {
   "cell_type": "code",
   "execution_count": 5,
   "id": "afadd839",
   "metadata": {
    "execution": {
     "iopub.execute_input": "2023-05-24T16:09:45.702462Z",
     "iopub.status.busy": "2023-05-24T16:09:45.701574Z",
     "iopub.status.idle": "2023-05-24T16:09:45.930697Z",
     "shell.execute_reply": "2023-05-24T16:09:45.929213Z"
    },
    "papermill": {
     "duration": 0.238799,
     "end_time": "2023-05-24T16:09:45.933079",
     "exception": false,
     "start_time": "2023-05-24T16:09:45.694280",
     "status": "completed"
    },
    "tags": []
   },
   "outputs": [
    {
     "name": "stdout",
     "output_type": "stream",
     "text": [
      "       BusinessYear StateCode  IssuerId SourceName  VersionNum  \\\n",
      "0              2014        PA     22444       HIOS           9   \n",
      "1              2014        PA     22444       HIOS           9   \n",
      "2              2014        PA     22444       HIOS           9   \n",
      "3              2014        PA     22444       HIOS           9   \n",
      "4              2014        PA     22444       HIOS           9   \n",
      "...             ...       ...       ...        ...         ...   \n",
      "42242          2016        WV     96480      SERFF           2   \n",
      "42243          2016        WV     96480      SERFF           2   \n",
      "42244          2016        WV     96480      SERFF           2   \n",
      "42245          2016        WV     96480      SERFF           2   \n",
      "42246          2016        WV     96480      SERFF           2   \n",
      "\n",
      "                ImportDate  IssuerId2 StateCode2 ServiceAreaId  \\\n",
      "0      2014-01-21 08:29:49      22444         PA        PAS001   \n",
      "1      2014-01-21 08:29:49      22444         PA        PAS001   \n",
      "2      2014-01-21 08:29:49      22444         PA        PAS001   \n",
      "3      2014-01-21 08:29:49      22444         PA        PAS001   \n",
      "4      2014-01-21 08:29:49      22444         PA        PAS001   \n",
      "...                    ...        ...        ...           ...   \n",
      "42242  2015-08-20 12:28:36      96480         WV        WVS001   \n",
      "42243  2015-08-20 12:28:36      96480         WV        WVS001   \n",
      "42244  2015-08-20 12:28:36      96480         WV        WVS001   \n",
      "42245  2015-08-20 12:28:36      96480         WV        WVS001   \n",
      "42246  2015-08-20 12:28:36      96480         WV        WVS001   \n",
      "\n",
      "                                         ServiceAreaName CoverEntireState  \\\n",
      "0                                  Geisinger Health Plan               No   \n",
      "1                                  Geisinger Health Plan               No   \n",
      "2                                  Geisinger Health Plan               No   \n",
      "3                                  Geisinger Health Plan               No   \n",
      "4                                  Geisinger Health Plan               No   \n",
      "...                                                  ...              ...   \n",
      "42242  DentalGuard Preferred Group & Individual PPO, ...               No   \n",
      "42243  DentalGuard Preferred Group & Individual PPO, ...               No   \n",
      "42244  DentalGuard Preferred Group & Individual PPO, ...               No   \n",
      "42245  DentalGuard Preferred Group & Individual PPO, ...               No   \n",
      "42246  DentalGuard Preferred Group & Individual PPO, ...               No   \n",
      "\n",
      "        County PartialCounty ZipCodes PartialCountyJustification  RowNumber  \\\n",
      "0      42103.0            No      NaN                        NaN         42   \n",
      "1      42105.0            No      NaN                        NaN         43   \n",
      "2      42107.0            No      NaN                        NaN         44   \n",
      "3      42109.0            No      NaN                        NaN         45   \n",
      "4      42111.0            No      NaN                        NaN         46   \n",
      "...        ...           ...      ...                        ...        ...   \n",
      "42242  54095.0            No      NaN                        NaN         27   \n",
      "42243  54101.0            No      NaN                        NaN         28   \n",
      "42244  54103.0            No      NaN                        NaN         29   \n",
      "42245  54105.0            No      NaN                        NaN         30   \n",
      "42246  54107.0            No      NaN                        NaN         31   \n",
      "\n",
      "           MarketCoverage DentalOnlyPlan  \n",
      "0                     NaN            NaN  \n",
      "1                     NaN            NaN  \n",
      "2                     NaN            NaN  \n",
      "3                     NaN            NaN  \n",
      "4                     NaN            NaN  \n",
      "...                   ...            ...  \n",
      "42242  SHOP (Small Group)            Yes  \n",
      "42243  SHOP (Small Group)            Yes  \n",
      "42244  SHOP (Small Group)            Yes  \n",
      "42245  SHOP (Small Group)            Yes  \n",
      "42246  SHOP (Small Group)            Yes  \n",
      "\n",
      "[42247 rows x 18 columns]\n"
     ]
    }
   ],
   "source": [
    "# Load CSV file into DataFrame\n",
    "df = pd.read_csv('../input/servicearea/ServiceArea.csv')\n",
    "print(df)"
   ]
  },
  {
   "cell_type": "code",
   "execution_count": 6,
   "id": "9ed20dc8",
   "metadata": {
    "execution": {
     "iopub.execute_input": "2023-05-24T16:09:45.948241Z",
     "iopub.status.busy": "2023-05-24T16:09:45.947235Z",
     "iopub.status.idle": "2023-05-24T16:09:45.963038Z",
     "shell.execute_reply": "2023-05-24T16:09:45.961900Z"
    },
    "papermill": {
     "duration": 0.026397,
     "end_time": "2023-05-24T16:09:45.966127",
     "exception": false,
     "start_time": "2023-05-24T16:09:45.939730",
     "status": "completed"
    },
    "tags": []
   },
   "outputs": [
    {
     "name": "stdout",
     "output_type": "stream",
     "text": [
      "La media es: 7.062087248798731\n",
      "La mediana es: 6.0\n",
      "La moda es: 0    6\n",
      "Name: VersionNum, dtype: int64\n"
     ]
    }
   ],
   "source": [
    "#Calculate mean of the column \"VersionNum\"\n",
    "media = df['VersionNum'].mean()\n",
    "print(\"La media es:\",media)\n",
    "#Calculate median of the column\"VersionNum\"\n",
    "mediana = df['VersionNum'].median()\n",
    "print(\"La mediana es:\",mediana)\n",
    "#Calculate moda of the column\n",
    "moda = df['VersionNum'].mode()\n",
    "print(\"La moda es:\",moda)"
   ]
  },
  {
   "cell_type": "markdown",
   "id": "c825b94e",
   "metadata": {
    "papermill": {
     "duration": 0.006005,
     "end_time": "2023-05-24T16:09:45.978333",
     "exception": false,
     "start_time": "2023-05-24T16:09:45.972328",
     "status": "completed"
    },
    "tags": []
   },
   "source": [
    "**Create a scatter plot of random x and y values between 1 and 100.**"
   ]
  },
  {
   "cell_type": "code",
   "execution_count": 7,
   "id": "f1550ed0",
   "metadata": {
    "execution": {
     "iopub.execute_input": "2023-05-24T16:09:45.992978Z",
     "iopub.status.busy": "2023-05-24T16:09:45.992201Z",
     "iopub.status.idle": "2023-05-24T16:09:46.271370Z",
     "shell.execute_reply": "2023-05-24T16:09:46.270113Z"
    },
    "papermill": {
     "duration": 0.289463,
     "end_time": "2023-05-24T16:09:46.273921",
     "exception": false,
     "start_time": "2023-05-24T16:09:45.984458",
     "status": "completed"
    },
    "tags": []
   },
   "outputs": [
    {
     "data": {
      "image/png": "[encoded data removed]",
      "text/plain": [
       "<Figure size 640x480 with 1 Axes>"
      ]
     },
     "metadata": {},
     "output_type": "display_data"
    }
   ],
   "source": [
    "#Primero aumentamos otra libreria\n",
    "import matplotlib.pyplot as plt\n",
    "\n",
    "# Generate random x and y values 1 and 100\n",
    "x = np.random.randint(1,high= 101, size=75)\n",
    "y = np.random.randint(1, high=101, size=75)\n",
    "\n",
    "# Create scatter plot in  x and y\n",
    "plt.scatter(x, y)\n",
    "plt.title('Scatter Plot')\n",
    "plt.xlabel('X values')\n",
    "plt.ylabel('Y values')\n",
    "plt.show()\n"
   ]
  },
  {
   "cell_type": "markdown",
   "id": "32187835",
   "metadata": {
    "papermill": {
     "duration": 0.006189,
     "end_time": "2023-05-24T16:09:46.286630",
     "exception": false,
     "start_time": "2023-05-24T16:09:46.280441",
     "status": "completed"
    },
    "tags": []
   },
   "source": [
    "**Load a CSV file into a DataFrame and then create a line chart of one of the columns in the\n",
    "DataFrame**"
   ]
  },
  {
   "cell_type": "code",
   "execution_count": 8,
   "id": "04fd691f",
   "metadata": {
    "execution": {
     "iopub.execute_input": "2023-05-24T16:09:46.301493Z",
     "iopub.status.busy": "2023-05-24T16:09:46.301067Z",
     "iopub.status.idle": "2023-05-24T16:09:46.349068Z",
     "shell.execute_reply": "2023-05-24T16:09:46.348066Z"
    },
    "papermill": {
     "duration": 0.058554,
     "end_time": "2023-05-24T16:09:46.351814",
     "exception": false,
     "start_time": "2023-05-24T16:09:46.293260",
     "status": "completed"
    },
    "tags": []
   },
   "outputs": [
    {
     "name": "stdout",
     "output_type": "stream",
     "text": [
      "      BusinessYear StateCode  IssuerId SourceName  VersionNum  \\\n",
      "0             2014        AK     21989       HIOS           6   \n",
      "1             2014        AK     38344       HIOS           6   \n",
      "2             2014        AK     38536       HIOS           2   \n",
      "3             2014        AK     42507       HIOS           3   \n",
      "4             2014        AK     73836       HIOS           6   \n",
      "...            ...       ...       ...        ...         ...   \n",
      "3817          2016        WV     75441      SERFF           2   \n",
      "3818          2016        WV     76526      SERFF           4   \n",
      "3819          2016        WV     76526      SERFF           4   \n",
      "3820          2016        WV     94562      SERFF           2   \n",
      "3821          2016        WV     96480      SERFF           2   \n",
      "\n",
      "               ImportDate  IssuerId2 StateCode2             NetworkName  \\\n",
      "0     2014-03-19 07:06:49      21989         AK             ODS Premier   \n",
      "1     2013-08-28 08:15:53      38344         AK            HeritagePlus   \n",
      "2     2013-08-01 12:48:00      38536         AK  Lincoln Dental Connect   \n",
      "3     2013-09-02 11:39:25      42507         AK   DentalGuard Preferred   \n",
      "4     2014-04-18 11:49:29      73836         AK   Moda Plus AK Regional   \n",
      "...                   ...        ...        ...                     ...   \n",
      "3817  2015-08-20 12:28:36      75441         WV           DenteMax, LLC   \n",
      "3818  2015-08-20 12:28:36      76526         WV        Delta Dental PPO   \n",
      "3819  2015-08-20 12:28:36      76526         WV        Delta Dental PPO   \n",
      "3820  2015-08-20 12:28:36      94562         WV                PDP PLUS   \n",
      "3821  2015-08-20 12:28:36      96480         WV   DentalGuard Preferred   \n",
      "\n",
      "     NetworkId                                         NetworkURL  RowNumber  \\\n",
      "0       AKN001  https://www.modahealth.com/ProviderSearch/face...         13   \n",
      "1       AKN001                https://www.premera.com/wa/visitor/         13   \n",
      "2       AKN001  http://lfg.go2dental.com/member/dental_search/...         13   \n",
      "3       AKN001  https://www.guardiananytime.com/fpapp/FPWeb/de...         13   \n",
      "4       AKN001  https://www.modahealth.com/ProviderSearch/face...         13   \n",
      "...        ...                                                ...        ...   \n",
      "3817    WVN001                                   www.dentemax.com         13   \n",
      "3818    WVN001      https://www.deltadentalins.com/find-a-dentist         13   \n",
      "3819    WVN001      https://www.deltadentalins.com/find-a-dentist         13   \n",
      "3820    WVN001  https://metlocator.metlife.com/metlocator/exec...         13   \n",
      "3821    WVN001  https://www.guardiananytime.com/fpapp/FPWeb/de...         13   \n",
      "\n",
      "          MarketCoverage DentalOnlyPlan  \n",
      "0                    NaN            NaN  \n",
      "1                    NaN            NaN  \n",
      "2                    NaN            NaN  \n",
      "3                    NaN            NaN  \n",
      "4                    NaN            NaN  \n",
      "...                  ...            ...  \n",
      "3817  SHOP (Small Group)            Yes  \n",
      "3818  SHOP (Small Group)            Yes  \n",
      "3819          Individual            Yes  \n",
      "3820  SHOP (Small Group)            Yes  \n",
      "3821  SHOP (Small Group)            Yes  \n",
      "\n",
      "[3822 rows x 14 columns]\n"
     ]
    }
   ],
   "source": [
    "##import matplotlib.pyplot as plt\n",
    "\n",
    "# Load CSV file into DataFrame\n",
    "df1 = pd.read_csv('../input/network/Network.csv')\n",
    "print(df1)\n",
    "\n"
   ]
  },
  {
   "cell_type": "code",
   "execution_count": 9,
   "id": "b1ed7fc0",
   "metadata": {
    "execution": {
     "iopub.execute_input": "2023-05-24T16:09:46.368318Z",
     "iopub.status.busy": "2023-05-24T16:09:46.367536Z",
     "iopub.status.idle": "2023-05-24T16:09:46.636860Z",
     "shell.execute_reply": "2023-05-24T16:09:46.635669Z"
    },
    "papermill": {
     "duration": 0.280525,
     "end_time": "2023-05-24T16:09:46.639520",
     "exception": false,
     "start_time": "2023-05-24T16:09:46.358995",
     "status": "completed"
    },
    "tags": []
   },
   "outputs": [
    {
     "data": {
      "image/png": "[encoded data removed]",
      "text/plain": [
       "<Figure size 640x480 with 1 Axes>"
      ]
     },
     "metadata": {},
     "output_type": "display_data"
    }
   ],
   "source": [
    "# Create line chart of one column\n",
    "plt.plot(df['BusinessYear'])\n",
    "plt.title('Line Chart')\n",
    "plt.xlabel('X Label')\n",
    "plt.ylabel('Y Label')\n",
    "plt.show()"
   ]
  }
 ],
 "metadata": {
  "kernelspec": {
   "display_name": "Python 3",
   "language": "python",
   "name": "python3"
  },
  "language_info": {
   "codemirror_mode": {
    "name": "ipython",
    "version": 3
   },
   "file_extension": ".py",
   "mimetype": "text/x-python",
   "name": "python",
   "nbconvert_exporter": "python",
   "pygments_lexer": "ipython3",
   "version": "3.10.10"
  },
  "papermill": {
   "default_parameters": {},
   "duration": 15.810169,
   "end_time": "2023-05-24T16:09:47.569176",
   "environment_variables": {},
   "exception": null,
   "input_path": "__notebook__.ipynb",
   "output_path": "__notebook__.ipynb",
   "parameters": {},
   "start_time": "2023-05-24T16:09:31.759007",
   "version": "2.4.0"
  }
 },
 "nbformat": 4,
 "nbformat_minor": 5
}
