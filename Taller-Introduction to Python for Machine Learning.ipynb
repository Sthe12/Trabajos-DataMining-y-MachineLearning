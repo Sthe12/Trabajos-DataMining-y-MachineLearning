{
 "cells": [
  {
   "cell_type": "code",
   "execution_count": 1,
   "id": "289312e4",
   "metadata": {
    "_cell_guid": "b1076dfc-b9ad-4769-8c92-a6c4dae69d19",
    "_uuid": "8f2839f25d086af736a60e9eeb907d3b93b6e0e5",
    "execution": {
     "iopub.execute_input": "2023-06-05T15:03:32.870194Z",
     "iopub.status.busy": "2023-06-05T15:03:32.869698Z",
     "iopub.status.idle": "2023-06-05T15:03:32.898020Z",
     "shell.execute_reply": "2023-06-05T15:03:32.896108Z"
    },
    "papermill": {
     "duration": 0.043258,
     "end_time": "2023-06-05T15:03:32.901327",
     "exception": false,
     "start_time": "2023-06-05T15:03:32.858069",
     "status": "completed"
    },
    "tags": []
   },
   "outputs": [
    {
     "name": "stdout",
     "output_type": "stream",
     "text": [
      "/kaggle/input/echocardiogram/echocardiogram.csv\n",
      "/kaggle/input/servicearea/ServiceArea.csv\n",
      "/kaggle/input/network/Network.csv\n",
      "/kaggle/input/airquality-set/airquality.csv\n"
     ]
    }
   ],
   "source": [
    "# This Python 3 environment comes with many helpful analytics libraries installed\n",
    "# It is defined by the kaggle/python Docker image: https://github.com/kaggle/docker-python\n",
    "# For example, here's several helpful packages to load\n",
    "\n",
    "import numpy as np # linear algebra\n",
    "import pandas as pd # data processing, CSV file I/O (e.g. pd.read_csv)\n",
    "\n",
    "# Input data files are available in the read-only \"../input/\" directory\n",
    "# For example, running this (by clicking run or pressing Shift+Enter) will list all files under the input directory\n",
    "\n",
    "import os\n",
    "for dirname, _, filenames in os.walk('/kaggle/input'):\n",
    "    for filename in filenames:\n",
    "        print(os.path.join(dirname, filename))\n",
    "\n",
    "# You can write up to 20GB to the current directory (/kaggle/working/) that gets preserved as output when you create a version using \"Save & Run All\" \n",
    "# You can also write temporary files to /kaggle/temp/, but they won't be saved outside of the current session"
   ]
  },
  {
   "cell_type": "markdown",
   "id": "932dd063",
   "metadata": {
    "papermill": {
     "duration": 0.00854,
     "end_time": "2023-06-05T15:03:32.919352",
     "exception": false,
     "start_time": "2023-06-05T15:03:32.910812",
     "status": "completed"
    },
    "tags": []
   },
   "source": [
    "#  1)  Introduction to Python for Machine Learning\n"
   ]
  },
  {
   "cell_type": "markdown",
   "id": "35485e8d",
   "metadata": {
    "papermill": {
     "duration": 0.008843,
     "end_time": "2023-06-05T15:03:32.937035",
     "exception": false,
     "start_time": "2023-06-05T15:03:32.928192",
     "status": "completed"
    },
    "tags": []
   },
   "source": [
    "**Create an array of 10 random integers between 1 and 100, and then calculate the mean and\n",
    "standard deviation of the array.**\n"
   ]
  },
  {
   "cell_type": "code",
   "execution_count": 2,
   "id": "83eb5684",
   "metadata": {
    "execution": {
     "iopub.execute_input": "2023-06-05T15:03:32.957815Z",
     "iopub.status.busy": "2023-06-05T15:03:32.957384Z",
     "iopub.status.idle": "2023-06-05T15:03:32.968239Z",
     "shell.execute_reply": "2023-06-05T15:03:32.967163Z"
    },
    "papermill": {
     "duration": 0.023609,
     "end_time": "2023-06-05T15:03:32.970239",
     "exception": false,
     "start_time": "2023-06-05T15:03:32.946630",
     "status": "completed"
    },
    "tags": []
   },
   "outputs": [
    {
     "name": "stdout",
     "output_type": "stream",
     "text": [
      "[81 69 20 72 97 22  8 46 98 10]\n",
      "La media es : 52.3\n",
      "La desviacion es : 33.66021390306366\n"
     ]
    }
   ],
   "source": [
    "#Create an array of 10 random integers between 1 and 100\n",
    "array = np.random.randint(1,high=101,size=10)\n",
    "print(array)\n",
    "#and then calculate the mean\n",
    "mean = np.mean(array)\n",
    "print(\"La media es :\",mean)\n",
    "#and standard deviation of the array\n",
    "deviation =np.std(array)\n",
    "print(\"La desviacion es :\",deviation)"
   ]
  },
  {
   "cell_type": "markdown",
   "id": "f41b3a89",
   "metadata": {
    "papermill": {
     "duration": 0.009062,
     "end_time": "2023-06-05T15:03:32.988765",
     "exception": false,
     "start_time": "2023-06-05T15:03:32.979703",
     "status": "completed"
    },
    "tags": []
   },
   "source": [
    "**Create a 2-dimensional array of 3 rows and 4 columns with random integer values. Then, calculate\n",
    "the sum of each row and column.**"
   ]
  },
  {
   "cell_type": "code",
   "execution_count": 3,
   "id": "5935bc8c",
   "metadata": {
    "execution": {
     "iopub.execute_input": "2023-06-05T15:03:33.009523Z",
     "iopub.status.busy": "2023-06-05T15:03:33.009118Z",
     "iopub.status.idle": "2023-06-05T15:03:33.016731Z",
     "shell.execute_reply": "2023-06-05T15:03:33.015222Z"
    },
    "papermill": {
     "duration": 0.02046,
     "end_time": "2023-06-05T15:03:33.018752",
     "exception": false,
     "start_time": "2023-06-05T15:03:32.998292",
     "status": "completed"
    },
    "tags": []
   },
   "outputs": [
    {
     "name": "stdout",
     "output_type": "stream",
     "text": [
      "[[3 2 5 5]\n",
      " [3 9 2 4]\n",
      " [5 8 4 5]]\n",
      "Suma de la Fila [15 18 22]\n",
      "Suma de la Columna [11 19 11 14]\n"
     ]
    }
   ],
   "source": [
    "#Create a 2-dimensional array of 3 rows and 4 columns with random integer values. \n",
    "array = np.random.randint(1, 10, (3, 4))\n",
    "print(array)\n",
    "#Then, calculate the sum of each row and column.\n",
    "# calculate the sum of each row\n",
    "row = np.sum(array, axis=1)\n",
    "print(\"Suma de la Fila\",row)\n",
    "# calculate the sum of each column\n",
    "column= np.sum(array, axis=0)\n",
    "print(\"Suma de la Columna\",column)"
   ]
  },
  {
   "cell_type": "markdown",
   "id": "50bf3b9a",
   "metadata": {
    "papermill": {
     "duration": 0.009479,
     "end_time": "2023-06-05T15:03:33.038805",
     "exception": false,
     "start_time": "2023-06-05T15:03:33.029326",
     "status": "completed"
    },
    "tags": []
   },
   "source": [
    "**Create a DataFrame with 3 columns: \"Name\", \"Age\", and \"City\". Add at least 5 rows of data to the\n",
    "DataFrame. Then, filter the DataFrame to only include rows where the person's age is greater than\n",
    "or equal to 30.**"
   ]
  },
  {
   "cell_type": "code",
   "execution_count": 4,
   "id": "7ecb8951",
   "metadata": {
    "execution": {
     "iopub.execute_input": "2023-06-05T15:03:33.060030Z",
     "iopub.status.busy": "2023-06-05T15:03:33.059565Z",
     "iopub.status.idle": "2023-06-05T15:03:33.095633Z",
     "shell.execute_reply": "2023-06-05T15:03:33.094635Z"
    },
    "papermill": {
     "duration": 0.050289,
     "end_time": "2023-06-05T15:03:33.098418",
     "exception": false,
     "start_time": "2023-06-05T15:03:33.048129",
     "status": "completed"
    },
    "tags": []
   },
   "outputs": [
    {
     "name": "stdout",
     "output_type": "stream",
     "text": [
      "     Name  Age    City\n",
      "0   Pedro   25   Tokio\n",
      "1  Dayana   21   Paris\n",
      "2   Jordy   28  La Paz\n",
      "3   Stefy   37  Bogota\n",
      "4    Juan   42  Ottawa\n",
      "\n",
      "     Name  Age    City\n",
      "3  Stefy   37  Bogota\n",
      "4   Juan   42  Ottawa\n"
     ]
    }
   ],
   "source": [
    "# Create a DataFrame with 3 columns and add least 5 rows of data to the DataFrame\n",
    "data = {\n",
    "    \"Name\": [\"Pedro\", \"Dayana\", \"Jordy\", \"Stefy\", \"Juan\"],\n",
    "    \"Age\": [25, 21, 28, 37, 42],\n",
    "    \"City\": [\"Tokio\", \"Paris\", \"La Paz\", \"Bogota\", \"Ottawa\"]\n",
    "}\n",
    "df = pd.DataFrame(data)\n",
    "print(df)\n",
    "#filter the DataFrame to only include rows where the person's age is greater than or equal to 30.\n",
    "filtrarAño = df[df[\"Age\"] >= 30]\n",
    "print(\"\\n\",filtrarAño)"
   ]
  },
  {
   "cell_type": "markdown",
   "id": "4a0fd5b9",
   "metadata": {
    "papermill": {
     "duration": 0.009847,
     "end_time": "2023-06-05T15:03:33.119148",
     "exception": false,
     "start_time": "2023-06-05T15:03:33.109301",
     "status": "completed"
    },
    "tags": []
   },
   "source": [
    "**Load a CSV file into a DataFrame and then calculate the mean, median, and mode of one of the\n",
    "columns in the DataFrame**"
   ]
  },
  {
   "cell_type": "code",
   "execution_count": 5,
   "id": "96f80088",
   "metadata": {
    "execution": {
     "iopub.execute_input": "2023-06-05T15:03:33.140054Z",
     "iopub.status.busy": "2023-06-05T15:03:33.139719Z",
     "iopub.status.idle": "2023-06-05T15:03:33.312177Z",
     "shell.execute_reply": "2023-06-05T15:03:33.309864Z"
    },
    "papermill": {
     "duration": 0.185887,
     "end_time": "2023-06-05T15:03:33.314947",
     "exception": false,
     "start_time": "2023-06-05T15:03:33.129060",
     "status": "completed"
    },
    "tags": []
   },
   "outputs": [
    {
     "name": "stdout",
     "output_type": "stream",
     "text": [
      "       BusinessYear StateCode  IssuerId SourceName  VersionNum  \\\n",
      "0              2014        PA     22444       HIOS           9   \n",
      "1              2014        PA     22444       HIOS           9   \n",
      "2              2014        PA     22444       HIOS           9   \n",
      "3              2014        PA     22444       HIOS           9   \n",
      "4              2014        PA     22444       HIOS           9   \n",
      "...             ...       ...       ...        ...         ...   \n",
      "42242          2016        WV     96480      SERFF           2   \n",
      "42243          2016        WV     96480      SERFF           2   \n",
      "42244          2016        WV     96480      SERFF           2   \n",
      "42245          2016        WV     96480      SERFF           2   \n",
      "42246          2016        WV     96480      SERFF           2   \n",
      "\n",
      "                ImportDate  IssuerId2 StateCode2 ServiceAreaId  \\\n",
      "0      2014-01-21 08:29:49      22444         PA        PAS001   \n",
      "1      2014-01-21 08:29:49      22444         PA        PAS001   \n",
      "2      2014-01-21 08:29:49      22444         PA        PAS001   \n",
      "3      2014-01-21 08:29:49      22444         PA        PAS001   \n",
      "4      2014-01-21 08:29:49      22444         PA        PAS001   \n",
      "...                    ...        ...        ...           ...   \n",
      "42242  2015-08-20 12:28:36      96480         WV        WVS001   \n",
      "42243  2015-08-20 12:28:36      96480         WV        WVS001   \n",
      "42244  2015-08-20 12:28:36      96480         WV        WVS001   \n",
      "42245  2015-08-20 12:28:36      96480         WV        WVS001   \n",
      "42246  2015-08-20 12:28:36      96480         WV        WVS001   \n",
      "\n",
      "                                         ServiceAreaName CoverEntireState  \\\n",
      "0                                  Geisinger Health Plan               No   \n",
      "1                                  Geisinger Health Plan               No   \n",
      "2                                  Geisinger Health Plan               No   \n",
      "3                                  Geisinger Health Plan               No   \n",
      "4                                  Geisinger Health Plan               No   \n",
      "...                                                  ...              ...   \n",
      "42242  DentalGuard Preferred Group & Individual PPO, ...               No   \n",
      "42243  DentalGuard Preferred Group & Individual PPO, ...               No   \n",
      "42244  DentalGuard Preferred Group & Individual PPO, ...               No   \n",
      "42245  DentalGuard Preferred Group & Individual PPO, ...               No   \n",
      "42246  DentalGuard Preferred Group & Individual PPO, ...               No   \n",
      "\n",
      "        County PartialCounty ZipCodes PartialCountyJustification  RowNumber  \\\n",
      "0      42103.0            No      NaN                        NaN         42   \n",
      "1      42105.0            No      NaN                        NaN         43   \n",
      "2      42107.0            No      NaN                        NaN         44   \n",
      "3      42109.0            No      NaN                        NaN         45   \n",
      "4      42111.0            No      NaN                        NaN         46   \n",
      "...        ...           ...      ...                        ...        ...   \n",
      "42242  54095.0            No      NaN                        NaN         27   \n",
      "42243  54101.0            No      NaN                        NaN         28   \n",
      "42244  54103.0            No      NaN                        NaN         29   \n",
      "42245  54105.0            No      NaN                        NaN         30   \n",
      "42246  54107.0            No      NaN                        NaN         31   \n",
      "\n",
      "           MarketCoverage DentalOnlyPlan  \n",
      "0                     NaN            NaN  \n",
      "1                     NaN            NaN  \n",
      "2                     NaN            NaN  \n",
      "3                     NaN            NaN  \n",
      "4                     NaN            NaN  \n",
      "...                   ...            ...  \n",
      "42242  SHOP (Small Group)            Yes  \n",
      "42243  SHOP (Small Group)            Yes  \n",
      "42244  SHOP (Small Group)            Yes  \n",
      "42245  SHOP (Small Group)            Yes  \n",
      "42246  SHOP (Small Group)            Yes  \n",
      "\n",
      "[42247 rows x 18 columns]\n"
     ]
    }
   ],
   "source": [
    "# Load CSV file into DataFrame\n",
    "df = pd.read_csv('../input/servicearea/ServiceArea.csv')\n",
    "print(df)"
   ]
  },
  {
   "cell_type": "code",
   "execution_count": 6,
   "id": "ce2b2295",
   "metadata": {
    "execution": {
     "iopub.execute_input": "2023-06-05T15:03:33.337750Z",
     "iopub.status.busy": "2023-06-05T15:03:33.337341Z",
     "iopub.status.idle": "2023-06-05T15:03:33.354203Z",
     "shell.execute_reply": "2023-06-05T15:03:33.351247Z"
    },
    "papermill": {
     "duration": 0.031565,
     "end_time": "2023-06-05T15:03:33.357841",
     "exception": false,
     "start_time": "2023-06-05T15:03:33.326276",
     "status": "completed"
    },
    "tags": []
   },
   "outputs": [
    {
     "name": "stdout",
     "output_type": "stream",
     "text": [
      "La media es: 7.062087248798731\n",
      "La mediana es: 6.0\n",
      "La moda es: 0    6\n",
      "Name: VersionNum, dtype: int64\n"
     ]
    }
   ],
   "source": [
    "#Calculate mean of the column \"VersionNum\"\n",
    "media = df['VersionNum'].mean()\n",
    "print(\"La media es:\",media)\n",
    "#Calculate median of the column\"VersionNum\"\n",
    "mediana = df['VersionNum'].median()\n",
    "print(\"La mediana es:\",mediana)\n",
    "#Calculate moda of the column\n",
    "moda = df['VersionNum'].mode()\n",
    "print(\"La moda es:\",moda)"
   ]
  },
  {
   "cell_type": "markdown",
   "id": "274d9373",
   "metadata": {
    "papermill": {
     "duration": 0.009744,
     "end_time": "2023-06-05T15:03:33.379129",
     "exception": false,
     "start_time": "2023-06-05T15:03:33.369385",
     "status": "completed"
    },
    "tags": []
   },
   "source": [
    "**Create a scatter plot of random x and y values between 1 and 100.**"
   ]
  },
  {
   "cell_type": "code",
   "execution_count": 7,
   "id": "9e3a9de8",
   "metadata": {
    "execution": {
     "iopub.execute_input": "2023-06-05T15:03:33.403444Z",
     "iopub.status.busy": "2023-06-05T15:03:33.403085Z",
     "iopub.status.idle": "2023-06-05T15:03:33.634019Z",
     "shell.execute_reply": "2023-06-05T15:03:33.632166Z"
    },
    "papermill": {
     "duration": 0.246881,
     "end_time": "2023-06-05T15:03:33.636922",
     "exception": false,
     "start_time": "2023-06-05T15:03:33.390041",
     "status": "completed"
    },
    "tags": []
   },
   "outputs": [
    {
     "data": {
      "image/png": "[encoded data removed]",
      "text/plain": [
       "<Figure size 640x480 with 1 Axes>"
      ]
     },
     "metadata": {},
     "output_type": "display_data"
    }
   ],
   "source": [
    "#Primero aumentamos otra libreria\n",
    "import matplotlib.pyplot as plt\n",
    "\n",
    "# Generate random x and y values 1 and 100\n",
    "x = np.random.randint(1,high= 101, size=75)\n",
    "y = np.random.randint(1, high=101, size=75)\n",
    "\n",
    "# Create scatter plot in  x and y\n",
    "plt.scatter(x, y)\n",
    "plt.title('Scatter Plot')\n",
    "plt.xlabel('X values')\n",
    "plt.ylabel('Y values')\n",
    "plt.show()\n"
   ]
  },
  {
   "cell_type": "markdown",
   "id": "c016023a",
   "metadata": {
    "papermill": {
     "duration": 0.01015,
     "end_time": "2023-06-05T15:03:33.657646",
     "exception": false,
     "start_time": "2023-06-05T15:03:33.647496",
     "status": "completed"
    },
    "tags": []
   },
   "source": [
    "**Load a CSV file into a DataFrame and then create a line chart of one of the columns in the\n",
    "DataFrame**"
   ]
  },
  {
   "cell_type": "code",
   "execution_count": 8,
   "id": "55811894",
   "metadata": {
    "execution": {
     "iopub.execute_input": "2023-06-05T15:03:33.680687Z",
     "iopub.status.busy": "2023-06-05T15:03:33.680219Z",
     "iopub.status.idle": "2023-06-05T15:03:33.716202Z",
     "shell.execute_reply": "2023-06-05T15:03:33.713779Z"
    },
    "papermill": {
     "duration": 0.049748,
     "end_time": "2023-06-05T15:03:33.718732",
     "exception": false,
     "start_time": "2023-06-05T15:03:33.668984",
     "status": "completed"
    },
    "tags": []
   },
   "outputs": [
    {
     "name": "stdout",
     "output_type": "stream",
     "text": [
      "      BusinessYear StateCode  IssuerId SourceName  VersionNum  \\\n",
      "0             2014        AK     21989       HIOS           6   \n",
      "1             2014        AK     38344       HIOS           6   \n",
      "2             2014        AK     38536       HIOS           2   \n",
      "3             2014        AK     42507       HIOS           3   \n",
      "4             2014        AK     73836       HIOS           6   \n",
      "...            ...       ...       ...        ...         ...   \n",
      "3817          2016        WV     75441      SERFF           2   \n",
      "3818          2016        WV     76526      SERFF           4   \n",
      "3819          2016        WV     76526      SERFF           4   \n",
      "3820          2016        WV     94562      SERFF           2   \n",
      "3821          2016        WV     96480      SERFF           2   \n",
      "\n",
      "               ImportDate  IssuerId2 StateCode2             NetworkName  \\\n",
      "0     2014-03-19 07:06:49      21989         AK             ODS Premier   \n",
      "1     2013-08-28 08:15:53      38344         AK            HeritagePlus   \n",
      "2     2013-08-01 12:48:00      38536         AK  Lincoln Dental Connect   \n",
      "3     2013-09-02 11:39:25      42507         AK   DentalGuard Preferred   \n",
      "4     2014-04-18 11:49:29      73836         AK   Moda Plus AK Regional   \n",
      "...                   ...        ...        ...                     ...   \n",
      "3817  2015-08-20 12:28:36      75441         WV           DenteMax, LLC   \n",
      "3818  2015-08-20 12:28:36      76526         WV        Delta Dental PPO   \n",
      "3819  2015-08-20 12:28:36      76526         WV        Delta Dental PPO   \n",
      "3820  2015-08-20 12:28:36      94562         WV                PDP PLUS   \n",
      "3821  2015-08-20 12:28:36      96480         WV   DentalGuard Preferred   \n",
      "\n",
      "     NetworkId                                         NetworkURL  RowNumber  \\\n",
      "0       AKN001  https://www.modahealth.com/ProviderSearch/face...         13   \n",
      "1       AKN001                https://www.premera.com/wa/visitor/         13   \n",
      "2       AKN001  http://lfg.go2dental.com/member/dental_search/...         13   \n",
      "3       AKN001  https://www.guardiananytime.com/fpapp/FPWeb/de...         13   \n",
      "4       AKN001  https://www.modahealth.com/ProviderSearch/face...         13   \n",
      "...        ...                                                ...        ...   \n",
      "3817    WVN001                                   www.dentemax.com         13   \n",
      "3818    WVN001      https://www.deltadentalins.com/find-a-dentist         13   \n",
      "3819    WVN001      https://www.deltadentalins.com/find-a-dentist         13   \n",
      "3820    WVN001  https://metlocator.metlife.com/metlocator/exec...         13   \n",
      "3821    WVN001  https://www.guardiananytime.com/fpapp/FPWeb/de...         13   \n",
      "\n",
      "          MarketCoverage DentalOnlyPlan  \n",
      "0                    NaN            NaN  \n",
      "1                    NaN            NaN  \n",
      "2                    NaN            NaN  \n",
      "3                    NaN            NaN  \n",
      "4                    NaN            NaN  \n",
      "...                  ...            ...  \n",
      "3817  SHOP (Small Group)            Yes  \n",
      "3818  SHOP (Small Group)            Yes  \n",
      "3819          Individual            Yes  \n",
      "3820  SHOP (Small Group)            Yes  \n",
      "3821  SHOP (Small Group)            Yes  \n",
      "\n",
      "[3822 rows x 14 columns]\n"
     ]
    }
   ],
   "source": [
    "##import matplotlib.pyplot as plt\n",
    "\n",
    "# Load CSV file into DataFrame\n",
    "df1 = pd.read_csv('../input/network/Network.csv')\n",
    "print(df1)\n",
    "\n"
   ]
  },
  {
   "cell_type": "code",
   "execution_count": 9,
   "id": "97af3226",
   "metadata": {
    "execution": {
     "iopub.execute_input": "2023-06-05T15:03:33.741161Z",
     "iopub.status.busy": "2023-06-05T15:03:33.740793Z",
     "iopub.status.idle": "2023-06-05T15:03:33.921080Z",
     "shell.execute_reply": "2023-06-05T15:03:33.919974Z"
    },
    "papermill": {
     "duration": 0.193942,
     "end_time": "2023-06-05T15:03:33.923281",
     "exception": false,
     "start_time": "2023-06-05T15:03:33.729339",
     "status": "completed"
    },
    "tags": []
   },
   "outputs": [
    {
     "data": {
      "image/png": "[encoded data removed]",
      "text/plain": [
       "<Figure size 640x480 with 1 Axes>"
      ]
     },
     "metadata": {},
     "output_type": "display_data"
    }
   ],
   "source": [
    "# Create line chart of one column\n",
    "plt.plot(df['BusinessYear'])\n",
    "plt.title('Line Chart')\n",
    "plt.xlabel('X Label')\n",
    "plt.ylabel('Y Label')\n",
    "plt.show()"
   ]
  },
  {
   "cell_type": "markdown",
   "id": "558320de",
   "metadata": {
    "papermill": {
     "duration": 0.009277,
     "end_time": "2023-06-05T15:03:33.942455",
     "exception": false,
     "start_time": "2023-06-05T15:03:33.933178",
     "status": "completed"
    },
    "tags": []
   },
   "source": [
    "# 3) Data import \n",
    "The Echocardiogram data set in the UCI Machine Learning repository contains information on a set of patients that suffered heart attacks at some point in the past."
   ]
  },
  {
   "cell_type": "markdown",
   "id": "f51ce9ca",
   "metadata": {
    "papermill": {
     "duration": 0.009813,
     "end_time": "2023-06-05T15:03:33.961779",
     "exception": false,
     "start_time": "2023-06-05T15:03:33.951966",
     "status": "completed"
    },
    "tags": []
   },
   "source": [
    "1. Download the Echocardiogram data set and import it to a data frame. Read the information on the data set and find out how missing values are represented and make sure that they are properly represented."
   ]
  },
  {
   "cell_type": "code",
   "execution_count": 10,
   "id": "417a6257",
   "metadata": {
    "execution": {
     "iopub.execute_input": "2023-06-05T15:03:33.984711Z",
     "iopub.status.busy": "2023-06-05T15:03:33.984359Z",
     "iopub.status.idle": "2023-06-05T15:03:34.002388Z",
     "shell.execute_reply": "2023-06-05T15:03:34.001648Z"
    },
    "papermill": {
     "duration": 0.031577,
     "end_time": "2023-06-05T15:03:34.004546",
     "exception": false,
     "start_time": "2023-06-05T15:03:33.972969",
     "status": "completed"
    },
    "tags": []
   },
   "outputs": [
    {
     "name": "stdout",
     "output_type": "stream",
     "text": [
      "Missing values count:\n",
      "survival                  2\n",
      "still-alive               1\n",
      "age-at-heart-attack       5\n",
      "pericardial-effusion      1\n",
      "fractional-shortening     8\n",
      "epss                     15\n",
      "lvdd                     11\n",
      "wall-motion-score         4\n",
      "wall-motion-index         1\n",
      "mult                      4\n",
      "name                      0\n",
      "group                    22\n",
      "alive-at-1               58\n",
      "dtype: int64\n"
     ]
    }
   ],
   "source": [
    "df = pd.read_csv('/kaggle/input/echocardiogram/echocardiogram.csv')\n",
    "#find out the missing value representation in the dataset \n",
    "missing_value_representation = '?'\n",
    "\n",
    "#replace missing value representation with NaN\n",
    "df = df.replace(missing_value_representation, np.nan) \n",
    "\n",
    "#count the number of missing values in each column \n",
    "missing_values_count = df.isna().sum()\n",
    "\n",
    "#print the count of missing values in each column \n",
    "print(\"Missing values count:\")\n",
    "print(missing_values_count)"
   ]
  },
  {
   "cell_type": "markdown",
   "id": "53a163f8",
   "metadata": {
    "papermill": {
     "duration": 0.009416,
     "end_time": "2023-06-05T15:03:34.024055",
     "exception": false,
     "start_time": "2023-06-05T15:03:34.014639",
     "status": "completed"
    },
    "tags": []
   },
   "source": [
    "2. Assign the attribues with meningful names. You can look for this information on the same webpage. "
   ]
  },
  {
   "cell_type": "code",
   "execution_count": 11,
   "id": "1ac86018",
   "metadata": {
    "execution": {
     "iopub.execute_input": "2023-06-05T15:03:34.045467Z",
     "iopub.status.busy": "2023-06-05T15:03:34.044885Z",
     "iopub.status.idle": "2023-06-05T15:03:34.052105Z",
     "shell.execute_reply": "2023-06-05T15:03:34.050514Z"
    },
    "papermill": {
     "duration": 0.020931,
     "end_time": "2023-06-05T15:03:34.054608",
     "exception": false,
     "start_time": "2023-06-05T15:03:34.033677",
     "status": "completed"
    },
    "tags": []
   },
   "outputs": [
    {
     "name": "stdout",
     "output_type": "stream",
     "text": [
      "['survival', 'still-alive', 'age-at-heart-attack', 'pericardial-effusion', 'fractional-shortening', 'epss', 'lvdd', 'wall-motion-score', 'wall-motion-index', 'mult', 'name', 'group', 'alive-at-1']\n"
     ]
    }
   ],
   "source": [
    "column_names = df.columns.to_list()\n",
    "print(column_names)\n",
    "#as you can see each column has a properly name that has been asigned previously "
   ]
  },
  {
   "cell_type": "markdown",
   "id": "b0fbf6e7",
   "metadata": {
    "papermill": {
     "duration": 0.010499,
     "end_time": "2023-06-05T15:03:34.075723",
     "exception": false,
     "start_time": "2023-06-05T15:03:34.065224",
     "status": "completed"
    },
    "tags": []
   },
   "source": [
    "3. According to that same information, is there any redundant or irrelevant attribute that you can remove? Remove them.  "
   ]
  },
  {
   "cell_type": "code",
   "execution_count": 12,
   "id": "8e2e4464",
   "metadata": {
    "execution": {
     "iopub.execute_input": "2023-06-05T15:03:34.099173Z",
     "iopub.status.busy": "2023-06-05T15:03:34.098783Z",
     "iopub.status.idle": "2023-06-05T15:03:34.108691Z",
     "shell.execute_reply": "2023-06-05T15:03:34.107358Z"
    },
    "papermill": {
     "duration": 0.024265,
     "end_time": "2023-06-05T15:03:34.110883",
     "exception": false,
     "start_time": "2023-06-05T15:03:34.086618",
     "status": "completed"
    },
    "tags": []
   },
   "outputs": [
    {
     "name": "stdout",
     "output_type": "stream",
     "text": [
      "['survival', 'still-alive', 'age-at-heart-attack', 'pericardial-effusion', 'fractional-shortening', 'epss', 'lvdd', 'wall-motion-score', 'wall-motion-index', 'alive-at-1']\n"
     ]
    }
   ],
   "source": [
    "#the documentation suggest: mult can be ignored, patient's name, group can be ignored\n",
    "columns_to_delete = ['name', 'mult', 'group']\n",
    "df = df.drop(columns_to_delete, axis=1)\n",
    "print(df.columns.to_list())"
   ]
  },
  {
   "cell_type": "markdown",
   "id": "44e6ef0f",
   "metadata": {
    "papermill": {
     "duration": 0.01007,
     "end_time": "2023-06-05T15:03:34.131461",
     "exception": false,
     "start_time": "2023-06-05T15:03:34.121391",
     "status": "completed"
    },
    "tags": []
   },
   "source": [
    "4. Is there any data type change that you find useful? Perform it.\n"
   ]
  },
  {
   "cell_type": "code",
   "execution_count": 13,
   "id": "57d64a83",
   "metadata": {
    "execution": {
     "iopub.execute_input": "2023-06-05T15:03:34.153402Z",
     "iopub.status.busy": "2023-06-05T15:03:34.152998Z",
     "iopub.status.idle": "2023-06-05T15:03:34.158131Z",
     "shell.execute_reply": "2023-06-05T15:03:34.157012Z"
    },
    "papermill": {
     "duration": 0.018825,
     "end_time": "2023-06-05T15:03:34.160207",
     "exception": false,
     "start_time": "2023-06-05T15:03:34.141382",
     "status": "completed"
    },
    "tags": []
   },
   "outputs": [],
   "source": [
    "#I do not  be able to find one data type that can be updated "
   ]
  },
  {
   "cell_type": "markdown",
   "id": "5772c204",
   "metadata": {
    "papermill": {
     "duration": 0.010248,
     "end_time": "2023-06-05T15:03:34.181263",
     "exception": false,
     "start_time": "2023-06-05T15:03:34.171015",
     "status": "completed"
    },
    "tags": []
   },
   "source": [
    "# 4) Data manipulation "
   ]
  },
  {
   "cell_type": "markdown",
   "id": "47663a85",
   "metadata": {
    "papermill": {
     "duration": 0.010261,
     "end_time": "2023-06-05T15:03:34.202081",
     "exception": false,
     "start_time": "2023-06-05T15:03:34.191820",
     "status": "completed"
    },
    "tags": []
   },
   "source": [
    "Load the airquality data set regarding a set of New York Air Quality Measurements."
   ]
  },
  {
   "cell_type": "code",
   "execution_count": 14,
   "id": "33598c35",
   "metadata": {
    "execution": {
     "iopub.execute_input": "2023-06-05T15:03:34.224945Z",
     "iopub.status.busy": "2023-06-05T15:03:34.224549Z",
     "iopub.status.idle": "2023-06-05T15:03:34.240839Z",
     "shell.execute_reply": "2023-06-05T15:03:34.239645Z"
    },
    "papermill": {
     "duration": 0.030948,
     "end_time": "2023-06-05T15:03:34.243483",
     "exception": false,
     "start_time": "2023-06-05T15:03:34.212535",
     "status": "completed"
    },
    "tags": []
   },
   "outputs": [
    {
     "name": "stdout",
     "output_type": "stream",
     "text": [
      "     Unnamed: 0  Ozone  Solar.R  Wind  Temp  Month  Day\n",
      "0             1   41.0    190.0   7.4    67      5    1\n",
      "1             2   36.0    118.0   8.0    72      5    2\n",
      "2             3   12.0    149.0  12.6    74      5    3\n",
      "3             4   18.0    313.0  11.5    62      5    4\n",
      "4             5    NaN      NaN  14.3    56      5    5\n",
      "..          ...    ...      ...   ...   ...    ...  ...\n",
      "148         149   30.0    193.0   6.9    70      9   26\n",
      "149         150    NaN    145.0  13.2    77      9   27\n",
      "150         151   14.0    191.0  14.3    75      9   28\n",
      "151         152   18.0    131.0   8.0    76      9   29\n",
      "152         153   20.0    223.0  11.5    68      9   30\n",
      "\n",
      "[153 rows x 7 columns]\n"
     ]
    }
   ],
   "source": [
    "df = pd.read_csv('/kaggle/input/airquality-set/airquality.csv')\n",
    "print(df)"
   ]
  },
  {
   "cell_type": "markdown",
   "id": "08873b85",
   "metadata": {
    "papermill": {
     "duration": 0.010977,
     "end_time": "2023-06-05T15:03:34.265266",
     "exception": false,
     "start_time": "2023-06-05T15:03:34.254289",
     "status": "completed"
    },
    "tags": []
   },
   "source": [
    "1. For which attributes are there missing values?"
   ]
  },
  {
   "cell_type": "code",
   "execution_count": 15,
   "id": "9b75ba9e",
   "metadata": {
    "execution": {
     "iopub.execute_input": "2023-06-05T15:03:34.291462Z",
     "iopub.status.busy": "2023-06-05T15:03:34.291066Z",
     "iopub.status.idle": "2023-06-05T15:03:34.300407Z",
     "shell.execute_reply": "2023-06-05T15:03:34.299104Z"
    },
    "papermill": {
     "duration": 0.024338,
     "end_time": "2023-06-05T15:03:34.302545",
     "exception": false,
     "start_time": "2023-06-05T15:03:34.278207",
     "status": "completed"
    },
    "tags": []
   },
   "outputs": [
    {
     "data": {
      "text/plain": [
       "Unnamed: 0     0\n",
       "Ozone         37\n",
       "Solar.R        7\n",
       "Wind           0\n",
       "Temp           0\n",
       "Month          0\n",
       "Day            0\n",
       "dtype: int64"
      ]
     },
     "execution_count": 15,
     "metadata": {},
     "output_type": "execute_result"
    }
   ],
   "source": [
    "df.isnull().sum()\n",
    "# Return the column with the count of each column which have null values "
   ]
  },
  {
   "cell_type": "markdown",
   "id": "04035bdf",
   "metadata": {
    "papermill": {
     "duration": 0.010444,
     "end_time": "2023-06-05T15:03:34.323726",
     "exception": false,
     "start_time": "2023-06-05T15:03:34.313282",
     "status": "completed"
    },
    "tags": []
   },
   "source": [
    "2. Do all the attributes are in the most suitable data type? Make the changes you find necessary."
   ]
  },
  {
   "cell_type": "code",
   "execution_count": 16,
   "id": "6e8f7670",
   "metadata": {
    "execution": {
     "iopub.execute_input": "2023-06-05T15:03:34.346740Z",
     "iopub.status.busy": "2023-06-05T15:03:34.346349Z",
     "iopub.status.idle": "2023-06-05T15:03:34.371279Z",
     "shell.execute_reply": "2023-06-05T15:03:34.370103Z"
    },
    "papermill": {
     "duration": 0.040802,
     "end_time": "2023-06-05T15:03:34.375065",
     "exception": false,
     "start_time": "2023-06-05T15:03:34.334263",
     "status": "completed"
    },
    "tags": []
   },
   "outputs": [
    {
     "data": {
      "text/html": [
       "<div>\n",
       "<style scoped>\n",
       "    .dataframe tbody tr th:only-of-type {\n",
       "        vertical-align: middle;\n",
       "    }\n",
       "\n",
       "    .dataframe tbody tr th {\n",
       "        vertical-align: top;\n",
       "    }\n",
       "\n",
       "    .dataframe thead th {\n",
       "        text-align: right;\n",
       "    }\n",
       "</style>\n",
       "<table border=\"1\" class=\"dataframe\">\n",
       "  <thead>\n",
       "    <tr style=\"text-align: right;\">\n",
       "      <th></th>\n",
       "      <th>Unnamed: 0</th>\n",
       "      <th>Ozone</th>\n",
       "      <th>Solar.R</th>\n",
       "      <th>Wind</th>\n",
       "      <th>Temp</th>\n",
       "      <th>Month</th>\n",
       "      <th>Day</th>\n",
       "    </tr>\n",
       "  </thead>\n",
       "  <tbody>\n",
       "    <tr>\n",
       "      <th>0</th>\n",
       "      <td>1</td>\n",
       "      <td>41.0</td>\n",
       "      <td>190.0</td>\n",
       "      <td>7.4</td>\n",
       "      <td>67</td>\n",
       "      <td>5</td>\n",
       "      <td>1</td>\n",
       "    </tr>\n",
       "    <tr>\n",
       "      <th>1</th>\n",
       "      <td>2</td>\n",
       "      <td>36.0</td>\n",
       "      <td>118.0</td>\n",
       "      <td>8.0</td>\n",
       "      <td>72</td>\n",
       "      <td>5</td>\n",
       "      <td>2</td>\n",
       "    </tr>\n",
       "    <tr>\n",
       "      <th>2</th>\n",
       "      <td>3</td>\n",
       "      <td>12.0</td>\n",
       "      <td>149.0</td>\n",
       "      <td>12.6</td>\n",
       "      <td>74</td>\n",
       "      <td>5</td>\n",
       "      <td>3</td>\n",
       "    </tr>\n",
       "    <tr>\n",
       "      <th>3</th>\n",
       "      <td>4</td>\n",
       "      <td>18.0</td>\n",
       "      <td>313.0</td>\n",
       "      <td>11.5</td>\n",
       "      <td>62</td>\n",
       "      <td>5</td>\n",
       "      <td>4</td>\n",
       "    </tr>\n",
       "    <tr>\n",
       "      <th>4</th>\n",
       "      <td>5</td>\n",
       "      <td>NaN</td>\n",
       "      <td>NaN</td>\n",
       "      <td>14.3</td>\n",
       "      <td>56</td>\n",
       "      <td>5</td>\n",
       "      <td>5</td>\n",
       "    </tr>\n",
       "    <tr>\n",
       "      <th>...</th>\n",
       "      <td>...</td>\n",
       "      <td>...</td>\n",
       "      <td>...</td>\n",
       "      <td>...</td>\n",
       "      <td>...</td>\n",
       "      <td>...</td>\n",
       "      <td>...</td>\n",
       "    </tr>\n",
       "    <tr>\n",
       "      <th>148</th>\n",
       "      <td>149</td>\n",
       "      <td>30.0</td>\n",
       "      <td>193.0</td>\n",
       "      <td>6.9</td>\n",
       "      <td>70</td>\n",
       "      <td>9</td>\n",
       "      <td>26</td>\n",
       "    </tr>\n",
       "    <tr>\n",
       "      <th>149</th>\n",
       "      <td>150</td>\n",
       "      <td>NaN</td>\n",
       "      <td>145.0</td>\n",
       "      <td>13.2</td>\n",
       "      <td>77</td>\n",
       "      <td>9</td>\n",
       "      <td>27</td>\n",
       "    </tr>\n",
       "    <tr>\n",
       "      <th>150</th>\n",
       "      <td>151</td>\n",
       "      <td>14.0</td>\n",
       "      <td>191.0</td>\n",
       "      <td>14.3</td>\n",
       "      <td>75</td>\n",
       "      <td>9</td>\n",
       "      <td>28</td>\n",
       "    </tr>\n",
       "    <tr>\n",
       "      <th>151</th>\n",
       "      <td>152</td>\n",
       "      <td>18.0</td>\n",
       "      <td>131.0</td>\n",
       "      <td>8.0</td>\n",
       "      <td>76</td>\n",
       "      <td>9</td>\n",
       "      <td>29</td>\n",
       "    </tr>\n",
       "    <tr>\n",
       "      <th>152</th>\n",
       "      <td>153</td>\n",
       "      <td>20.0</td>\n",
       "      <td>223.0</td>\n",
       "      <td>11.5</td>\n",
       "      <td>68</td>\n",
       "      <td>9</td>\n",
       "      <td>30</td>\n",
       "    </tr>\n",
       "  </tbody>\n",
       "</table>\n",
       "<p>153 rows × 7 columns</p>\n",
       "</div>"
      ],
      "text/plain": [
       "     Unnamed: 0  Ozone  Solar.R  Wind  Temp  Month  Day\n",
       "0             1   41.0    190.0   7.4    67      5    1\n",
       "1             2   36.0    118.0   8.0    72      5    2\n",
       "2             3   12.0    149.0  12.6    74      5    3\n",
       "3             4   18.0    313.0  11.5    62      5    4\n",
       "4             5    NaN      NaN  14.3    56      5    5\n",
       "..          ...    ...      ...   ...   ...    ...  ...\n",
       "148         149   30.0    193.0   6.9    70      9   26\n",
       "149         150    NaN    145.0  13.2    77      9   27\n",
       "150         151   14.0    191.0  14.3    75      9   28\n",
       "151         152   18.0    131.0   8.0    76      9   29\n",
       "152         153   20.0    223.0  11.5    68      9   30\n",
       "\n",
       "[153 rows x 7 columns]"
      ]
     },
     "execution_count": 16,
     "metadata": {},
     "output_type": "execute_result"
    }
   ],
   "source": [
    "df\n",
    "#I consider all the atributes has the correct data type"
   ]
  },
  {
   "cell_type": "markdown",
   "id": "6816540c",
   "metadata": {
    "papermill": {
     "duration": 0.010817,
     "end_time": "2023-06-05T15:03:34.397110",
     "exception": false,
     "start_time": "2023-06-05T15:03:34.386293",
     "status": "completed"
    },
    "tags": []
   },
   "source": [
    "3. What period of the year do these records refer to?"
   ]
  },
  {
   "cell_type": "code",
   "execution_count": 17,
   "id": "772fa3da",
   "metadata": {
    "execution": {
     "iopub.execute_input": "2023-06-05T15:03:34.422887Z",
     "iopub.status.busy": "2023-06-05T15:03:34.422500Z",
     "iopub.status.idle": "2023-06-05T15:03:34.426342Z",
     "shell.execute_reply": "2023-06-05T15:03:34.425342Z"
    },
    "papermill": {
     "duration": 0.02042,
     "end_time": "2023-06-05T15:03:34.428980",
     "exception": false,
     "start_time": "2023-06-05T15:03:34.408560",
     "status": "completed"
    },
    "tags": []
   },
   "outputs": [],
   "source": [
    "#This dataset doesn't containt information about years\n",
    "#so, we can't not conclude nothing about the period of \n",
    "#years in which these data was collected\n",
    "#But, in the official description, says: Daily air \n",
    "#quality measurements in New York, May to September 1973."
   ]
  },
  {
   "cell_type": "markdown",
   "id": "1ee31ca9",
   "metadata": {
    "papermill": {
     "duration": 0.012043,
     "end_time": "2023-06-05T15:03:34.454225",
     "exception": false,
     "start_time": "2023-06-05T15:03:34.442182",
     "status": "completed"
    },
    "tags": []
   },
   "source": [
    "4. Load the package dplyr and save the data set in a table data frame format."
   ]
  },
  {
   "cell_type": "code",
   "execution_count": 18,
   "id": "2a14a31e",
   "metadata": {
    "execution": {
     "iopub.execute_input": "2023-06-05T15:03:34.481172Z",
     "iopub.status.busy": "2023-06-05T15:03:34.480803Z",
     "iopub.status.idle": "2023-06-05T15:03:34.495993Z",
     "shell.execute_reply": "2023-06-05T15:03:34.495095Z"
    },
    "papermill": {
     "duration": 0.031611,
     "end_time": "2023-06-05T15:03:34.498749",
     "exception": false,
     "start_time": "2023-06-05T15:03:34.467138",
     "status": "completed"
    },
    "tags": []
   },
   "outputs": [
    {
     "data": {
      "text/html": [
       "<div>\n",
       "<style scoped>\n",
       "    .dataframe tbody tr th:only-of-type {\n",
       "        vertical-align: middle;\n",
       "    }\n",
       "\n",
       "    .dataframe tbody tr th {\n",
       "        vertical-align: top;\n",
       "    }\n",
       "\n",
       "    .dataframe thead th {\n",
       "        text-align: right;\n",
       "    }\n",
       "</style>\n",
       "<table border=\"1\" class=\"dataframe\">\n",
       "  <thead>\n",
       "    <tr style=\"text-align: right;\">\n",
       "      <th></th>\n",
       "      <th>Unnamed: 0</th>\n",
       "      <th>Ozone</th>\n",
       "      <th>Solar.R</th>\n",
       "      <th>Wind</th>\n",
       "      <th>Temp</th>\n",
       "      <th>Month</th>\n",
       "      <th>Day</th>\n",
       "    </tr>\n",
       "  </thead>\n",
       "  <tbody>\n",
       "    <tr>\n",
       "      <th>0</th>\n",
       "      <td>1</td>\n",
       "      <td>41.0</td>\n",
       "      <td>190.0</td>\n",
       "      <td>7.4</td>\n",
       "      <td>67</td>\n",
       "      <td>5</td>\n",
       "      <td>1</td>\n",
       "    </tr>\n",
       "    <tr>\n",
       "      <th>1</th>\n",
       "      <td>2</td>\n",
       "      <td>36.0</td>\n",
       "      <td>118.0</td>\n",
       "      <td>8.0</td>\n",
       "      <td>72</td>\n",
       "      <td>5</td>\n",
       "      <td>2</td>\n",
       "    </tr>\n",
       "    <tr>\n",
       "      <th>2</th>\n",
       "      <td>3</td>\n",
       "      <td>12.0</td>\n",
       "      <td>149.0</td>\n",
       "      <td>12.6</td>\n",
       "      <td>74</td>\n",
       "      <td>5</td>\n",
       "      <td>3</td>\n",
       "    </tr>\n",
       "    <tr>\n",
       "      <th>3</th>\n",
       "      <td>4</td>\n",
       "      <td>18.0</td>\n",
       "      <td>313.0</td>\n",
       "      <td>11.5</td>\n",
       "      <td>62</td>\n",
       "      <td>5</td>\n",
       "      <td>4</td>\n",
       "    </tr>\n",
       "    <tr>\n",
       "      <th>4</th>\n",
       "      <td>5</td>\n",
       "      <td>NaN</td>\n",
       "      <td>NaN</td>\n",
       "      <td>14.3</td>\n",
       "      <td>56</td>\n",
       "      <td>5</td>\n",
       "      <td>5</td>\n",
       "    </tr>\n",
       "    <tr>\n",
       "      <th>...</th>\n",
       "      <td>...</td>\n",
       "      <td>...</td>\n",
       "      <td>...</td>\n",
       "      <td>...</td>\n",
       "      <td>...</td>\n",
       "      <td>...</td>\n",
       "      <td>...</td>\n",
       "    </tr>\n",
       "    <tr>\n",
       "      <th>148</th>\n",
       "      <td>149</td>\n",
       "      <td>30.0</td>\n",
       "      <td>193.0</td>\n",
       "      <td>6.9</td>\n",
       "      <td>70</td>\n",
       "      <td>9</td>\n",
       "      <td>26</td>\n",
       "    </tr>\n",
       "    <tr>\n",
       "      <th>149</th>\n",
       "      <td>150</td>\n",
       "      <td>NaN</td>\n",
       "      <td>145.0</td>\n",
       "      <td>13.2</td>\n",
       "      <td>77</td>\n",
       "      <td>9</td>\n",
       "      <td>27</td>\n",
       "    </tr>\n",
       "    <tr>\n",
       "      <th>150</th>\n",
       "      <td>151</td>\n",
       "      <td>14.0</td>\n",
       "      <td>191.0</td>\n",
       "      <td>14.3</td>\n",
       "      <td>75</td>\n",
       "      <td>9</td>\n",
       "      <td>28</td>\n",
       "    </tr>\n",
       "    <tr>\n",
       "      <th>151</th>\n",
       "      <td>152</td>\n",
       "      <td>18.0</td>\n",
       "      <td>131.0</td>\n",
       "      <td>8.0</td>\n",
       "      <td>76</td>\n",
       "      <td>9</td>\n",
       "      <td>29</td>\n",
       "    </tr>\n",
       "    <tr>\n",
       "      <th>152</th>\n",
       "      <td>153</td>\n",
       "      <td>20.0</td>\n",
       "      <td>223.0</td>\n",
       "      <td>11.5</td>\n",
       "      <td>68</td>\n",
       "      <td>9</td>\n",
       "      <td>30</td>\n",
       "    </tr>\n",
       "  </tbody>\n",
       "</table>\n",
       "<p>153 rows × 7 columns</p>\n",
       "</div>"
      ],
      "text/plain": [
       "     Unnamed: 0  Ozone  Solar.R  Wind  Temp  Month  Day\n",
       "0             1   41.0    190.0   7.4    67      5    1\n",
       "1             2   36.0    118.0   8.0    72      5    2\n",
       "2             3   12.0    149.0  12.6    74      5    3\n",
       "3             4   18.0    313.0  11.5    62      5    4\n",
       "4             5    NaN      NaN  14.3    56      5    5\n",
       "..          ...    ...      ...   ...   ...    ...  ...\n",
       "148         149   30.0    193.0   6.9    70      9   26\n",
       "149         150    NaN    145.0  13.2    77      9   27\n",
       "150         151   14.0    191.0  14.3    75      9   28\n",
       "151         152   18.0    131.0   8.0    76      9   29\n",
       "152         153   20.0    223.0  11.5    68      9   30\n",
       "\n",
       "[153 rows x 7 columns]"
      ]
     },
     "execution_count": 18,
     "metadata": {},
     "output_type": "execute_result"
    }
   ],
   "source": [
    "#dplyr package equivalent in Python, you would need to use\n",
    "#the pandas library, which provides similar\n",
    "#functionalities for data manipulation.\n",
    "df_table = pd.DataFrame(df)\n",
    "df_table"
   ]
  },
  {
   "cell_type": "markdown",
   "id": "7e1f6756",
   "metadata": {
    "papermill": {
     "duration": 0.013135,
     "end_time": "2023-06-05T15:03:34.524114",
     "exception": false,
     "start_time": "2023-06-05T15:03:34.510979",
     "status": "completed"
    },
    "tags": []
   },
   "source": [
    "5. Select the days in May with a temperature above 70 Fahrenheit."
   ]
  },
  {
   "cell_type": "code",
   "execution_count": 19,
   "id": "1b3093d9",
   "metadata": {
    "execution": {
     "iopub.execute_input": "2023-06-05T15:03:34.549001Z",
     "iopub.status.busy": "2023-06-05T15:03:34.548596Z",
     "iopub.status.idle": "2023-06-05T15:03:34.563723Z",
     "shell.execute_reply": "2023-06-05T15:03:34.562247Z"
    },
    "papermill": {
     "duration": 0.030004,
     "end_time": "2023-06-05T15:03:34.565654",
     "exception": false,
     "start_time": "2023-06-05T15:03:34.535650",
     "status": "completed"
    },
    "tags": []
   },
   "outputs": [
    {
     "data": {
      "text/html": [
       "<div>\n",
       "<style scoped>\n",
       "    .dataframe tbody tr th:only-of-type {\n",
       "        vertical-align: middle;\n",
       "    }\n",
       "\n",
       "    .dataframe tbody tr th {\n",
       "        vertical-align: top;\n",
       "    }\n",
       "\n",
       "    .dataframe thead th {\n",
       "        text-align: right;\n",
       "    }\n",
       "</style>\n",
       "<table border=\"1\" class=\"dataframe\">\n",
       "  <thead>\n",
       "    <tr style=\"text-align: right;\">\n",
       "      <th></th>\n",
       "      <th>Unnamed: 0</th>\n",
       "      <th>Ozone</th>\n",
       "      <th>Solar.R</th>\n",
       "      <th>Wind</th>\n",
       "      <th>Temp</th>\n",
       "      <th>Month</th>\n",
       "      <th>Day</th>\n",
       "    </tr>\n",
       "  </thead>\n",
       "  <tbody>\n",
       "    <tr>\n",
       "      <th>1</th>\n",
       "      <td>2</td>\n",
       "      <td>36.0</td>\n",
       "      <td>118.0</td>\n",
       "      <td>8.0</td>\n",
       "      <td>72</td>\n",
       "      <td>5</td>\n",
       "      <td>2</td>\n",
       "    </tr>\n",
       "    <tr>\n",
       "      <th>2</th>\n",
       "      <td>3</td>\n",
       "      <td>12.0</td>\n",
       "      <td>149.0</td>\n",
       "      <td>12.6</td>\n",
       "      <td>74</td>\n",
       "      <td>5</td>\n",
       "      <td>3</td>\n",
       "    </tr>\n",
       "    <tr>\n",
       "      <th>10</th>\n",
       "      <td>11</td>\n",
       "      <td>7.0</td>\n",
       "      <td>NaN</td>\n",
       "      <td>6.9</td>\n",
       "      <td>74</td>\n",
       "      <td>5</td>\n",
       "      <td>11</td>\n",
       "    </tr>\n",
       "    <tr>\n",
       "      <th>21</th>\n",
       "      <td>22</td>\n",
       "      <td>11.0</td>\n",
       "      <td>320.0</td>\n",
       "      <td>16.6</td>\n",
       "      <td>73</td>\n",
       "      <td>5</td>\n",
       "      <td>22</td>\n",
       "    </tr>\n",
       "    <tr>\n",
       "      <th>28</th>\n",
       "      <td>29</td>\n",
       "      <td>45.0</td>\n",
       "      <td>252.0</td>\n",
       "      <td>14.9</td>\n",
       "      <td>81</td>\n",
       "      <td>5</td>\n",
       "      <td>29</td>\n",
       "    </tr>\n",
       "    <tr>\n",
       "      <th>29</th>\n",
       "      <td>30</td>\n",
       "      <td>115.0</td>\n",
       "      <td>223.0</td>\n",
       "      <td>5.7</td>\n",
       "      <td>79</td>\n",
       "      <td>5</td>\n",
       "      <td>30</td>\n",
       "    </tr>\n",
       "    <tr>\n",
       "      <th>30</th>\n",
       "      <td>31</td>\n",
       "      <td>37.0</td>\n",
       "      <td>279.0</td>\n",
       "      <td>7.4</td>\n",
       "      <td>76</td>\n",
       "      <td>5</td>\n",
       "      <td>31</td>\n",
       "    </tr>\n",
       "  </tbody>\n",
       "</table>\n",
       "</div>"
      ],
      "text/plain": [
       "    Unnamed: 0  Ozone  Solar.R  Wind  Temp  Month  Day\n",
       "1            2   36.0    118.0   8.0    72      5    2\n",
       "2            3   12.0    149.0  12.6    74      5    3\n",
       "10          11    7.0      NaN   6.9    74      5   11\n",
       "21          22   11.0    320.0  16.6    73      5   22\n",
       "28          29   45.0    252.0  14.9    81      5   29\n",
       "29          30  115.0    223.0   5.7    79      5   30\n",
       "30          31   37.0    279.0   7.4    76      5   31"
      ]
     },
     "execution_count": 19,
     "metadata": {},
     "output_type": "execute_result"
    }
   ],
   "source": [
    "#filter for may and teperature above 70°F \n",
    "may_above_70 = df[(df['Month']==5) & (df['Temp']>70)]\n",
    "may_above_70"
   ]
  },
  {
   "cell_type": "markdown",
   "id": "ad1ced53",
   "metadata": {
    "papermill": {
     "duration": 0.011395,
     "end_time": "2023-06-05T15:03:34.588493",
     "exception": false,
     "start_time": "2023-06-05T15:03:34.577098",
     "status": "completed"
    },
    "tags": []
   },
   "source": [
    "6. Create a new attribute TempC which represents the temperature values in Celsius."
   ]
  },
  {
   "cell_type": "code",
   "execution_count": 20,
   "id": "92519f75",
   "metadata": {
    "execution": {
     "iopub.execute_input": "2023-06-05T15:03:34.615313Z",
     "iopub.status.busy": "2023-06-05T15:03:34.614905Z",
     "iopub.status.idle": "2023-06-05T15:03:34.637383Z",
     "shell.execute_reply": "2023-06-05T15:03:34.635955Z"
    },
    "papermill": {
     "duration": 0.040837,
     "end_time": "2023-06-05T15:03:34.641051",
     "exception": false,
     "start_time": "2023-06-05T15:03:34.600214",
     "status": "completed"
    },
    "tags": []
   },
   "outputs": [
    {
     "data": {
      "text/html": [
       "<div>\n",
       "<style scoped>\n",
       "    .dataframe tbody tr th:only-of-type {\n",
       "        vertical-align: middle;\n",
       "    }\n",
       "\n",
       "    .dataframe tbody tr th {\n",
       "        vertical-align: top;\n",
       "    }\n",
       "\n",
       "    .dataframe thead th {\n",
       "        text-align: right;\n",
       "    }\n",
       "</style>\n",
       "<table border=\"1\" class=\"dataframe\">\n",
       "  <thead>\n",
       "    <tr style=\"text-align: right;\">\n",
       "      <th></th>\n",
       "      <th>Unnamed: 0</th>\n",
       "      <th>Ozone</th>\n",
       "      <th>Solar.R</th>\n",
       "      <th>Wind</th>\n",
       "      <th>Temp</th>\n",
       "      <th>Month</th>\n",
       "      <th>Day</th>\n",
       "      <th>TempC</th>\n",
       "    </tr>\n",
       "  </thead>\n",
       "  <tbody>\n",
       "    <tr>\n",
       "      <th>0</th>\n",
       "      <td>1</td>\n",
       "      <td>41.0</td>\n",
       "      <td>190.0</td>\n",
       "      <td>7.4</td>\n",
       "      <td>67</td>\n",
       "      <td>5</td>\n",
       "      <td>1</td>\n",
       "      <td>19.444444</td>\n",
       "    </tr>\n",
       "    <tr>\n",
       "      <th>1</th>\n",
       "      <td>2</td>\n",
       "      <td>36.0</td>\n",
       "      <td>118.0</td>\n",
       "      <td>8.0</td>\n",
       "      <td>72</td>\n",
       "      <td>5</td>\n",
       "      <td>2</td>\n",
       "      <td>22.222222</td>\n",
       "    </tr>\n",
       "    <tr>\n",
       "      <th>2</th>\n",
       "      <td>3</td>\n",
       "      <td>12.0</td>\n",
       "      <td>149.0</td>\n",
       "      <td>12.6</td>\n",
       "      <td>74</td>\n",
       "      <td>5</td>\n",
       "      <td>3</td>\n",
       "      <td>23.333333</td>\n",
       "    </tr>\n",
       "    <tr>\n",
       "      <th>3</th>\n",
       "      <td>4</td>\n",
       "      <td>18.0</td>\n",
       "      <td>313.0</td>\n",
       "      <td>11.5</td>\n",
       "      <td>62</td>\n",
       "      <td>5</td>\n",
       "      <td>4</td>\n",
       "      <td>16.666667</td>\n",
       "    </tr>\n",
       "    <tr>\n",
       "      <th>4</th>\n",
       "      <td>5</td>\n",
       "      <td>NaN</td>\n",
       "      <td>NaN</td>\n",
       "      <td>14.3</td>\n",
       "      <td>56</td>\n",
       "      <td>5</td>\n",
       "      <td>5</td>\n",
       "      <td>13.333333</td>\n",
       "    </tr>\n",
       "    <tr>\n",
       "      <th>...</th>\n",
       "      <td>...</td>\n",
       "      <td>...</td>\n",
       "      <td>...</td>\n",
       "      <td>...</td>\n",
       "      <td>...</td>\n",
       "      <td>...</td>\n",
       "      <td>...</td>\n",
       "      <td>...</td>\n",
       "    </tr>\n",
       "    <tr>\n",
       "      <th>148</th>\n",
       "      <td>149</td>\n",
       "      <td>30.0</td>\n",
       "      <td>193.0</td>\n",
       "      <td>6.9</td>\n",
       "      <td>70</td>\n",
       "      <td>9</td>\n",
       "      <td>26</td>\n",
       "      <td>21.111111</td>\n",
       "    </tr>\n",
       "    <tr>\n",
       "      <th>149</th>\n",
       "      <td>150</td>\n",
       "      <td>NaN</td>\n",
       "      <td>145.0</td>\n",
       "      <td>13.2</td>\n",
       "      <td>77</td>\n",
       "      <td>9</td>\n",
       "      <td>27</td>\n",
       "      <td>25.000000</td>\n",
       "    </tr>\n",
       "    <tr>\n",
       "      <th>150</th>\n",
       "      <td>151</td>\n",
       "      <td>14.0</td>\n",
       "      <td>191.0</td>\n",
       "      <td>14.3</td>\n",
       "      <td>75</td>\n",
       "      <td>9</td>\n",
       "      <td>28</td>\n",
       "      <td>23.888889</td>\n",
       "    </tr>\n",
       "    <tr>\n",
       "      <th>151</th>\n",
       "      <td>152</td>\n",
       "      <td>18.0</td>\n",
       "      <td>131.0</td>\n",
       "      <td>8.0</td>\n",
       "      <td>76</td>\n",
       "      <td>9</td>\n",
       "      <td>29</td>\n",
       "      <td>24.444444</td>\n",
       "    </tr>\n",
       "    <tr>\n",
       "      <th>152</th>\n",
       "      <td>153</td>\n",
       "      <td>20.0</td>\n",
       "      <td>223.0</td>\n",
       "      <td>11.5</td>\n",
       "      <td>68</td>\n",
       "      <td>9</td>\n",
       "      <td>30</td>\n",
       "      <td>20.000000</td>\n",
       "    </tr>\n",
       "  </tbody>\n",
       "</table>\n",
       "<p>153 rows × 8 columns</p>\n",
       "</div>"
      ],
      "text/plain": [
       "     Unnamed: 0  Ozone  Solar.R  Wind  Temp  Month  Day      TempC\n",
       "0             1   41.0    190.0   7.4    67      5    1  19.444444\n",
       "1             2   36.0    118.0   8.0    72      5    2  22.222222\n",
       "2             3   12.0    149.0  12.6    74      5    3  23.333333\n",
       "3             4   18.0    313.0  11.5    62      5    4  16.666667\n",
       "4             5    NaN      NaN  14.3    56      5    5  13.333333\n",
       "..          ...    ...      ...   ...   ...    ...  ...        ...\n",
       "148         149   30.0    193.0   6.9    70      9   26  21.111111\n",
       "149         150    NaN    145.0  13.2    77      9   27  25.000000\n",
       "150         151   14.0    191.0  14.3    75      9   28  23.888889\n",
       "151         152   18.0    131.0   8.0    76      9   29  24.444444\n",
       "152         153   20.0    223.0  11.5    68      9   30  20.000000\n",
       "\n",
       "[153 rows x 8 columns]"
      ]
     },
     "execution_count": 20,
     "metadata": {},
     "output_type": "execute_result"
    }
   ],
   "source": [
    "#create a new column \"TempC\"\n",
    "df['TempC']=(df['Temp']-32)*5/9\n",
    "df"
   ]
  },
  {
   "cell_type": "markdown",
   "id": "2c592ed5",
   "metadata": {
    "papermill": {
     "duration": 0.016336,
     "end_time": "2023-06-05T15:03:34.676261",
     "exception": false,
     "start_time": "2023-06-05T15:03:34.659925",
     "status": "completed"
    },
    "tags": []
   },
   "source": [
    "7. Inspect which were the 30 hottest days."
   ]
  },
  {
   "cell_type": "code",
   "execution_count": 21,
   "id": "13aac062",
   "metadata": {
    "execution": {
     "iopub.execute_input": "2023-06-05T15:03:34.706052Z",
     "iopub.status.busy": "2023-06-05T15:03:34.705702Z",
     "iopub.status.idle": "2023-06-05T15:03:34.735521Z",
     "shell.execute_reply": "2023-06-05T15:03:34.733874Z"
    },
    "papermill": {
     "duration": 0.04586,
     "end_time": "2023-06-05T15:03:34.738088",
     "exception": false,
     "start_time": "2023-06-05T15:03:34.692228",
     "status": "completed"
    },
    "tags": []
   },
   "outputs": [
    {
     "data": {
      "text/html": [
       "<div>\n",
       "<style scoped>\n",
       "    .dataframe tbody tr th:only-of-type {\n",
       "        vertical-align: middle;\n",
       "    }\n",
       "\n",
       "    .dataframe tbody tr th {\n",
       "        vertical-align: top;\n",
       "    }\n",
       "\n",
       "    .dataframe thead th {\n",
       "        text-align: right;\n",
       "    }\n",
       "</style>\n",
       "<table border=\"1\" class=\"dataframe\">\n",
       "  <thead>\n",
       "    <tr style=\"text-align: right;\">\n",
       "      <th></th>\n",
       "      <th>Unnamed: 0</th>\n",
       "      <th>Ozone</th>\n",
       "      <th>Solar.R</th>\n",
       "      <th>Wind</th>\n",
       "      <th>Temp</th>\n",
       "      <th>Month</th>\n",
       "      <th>Day</th>\n",
       "      <th>TempC</th>\n",
       "    </tr>\n",
       "  </thead>\n",
       "  <tbody>\n",
       "    <tr>\n",
       "      <th>119</th>\n",
       "      <td>120</td>\n",
       "      <td>76.0</td>\n",
       "      <td>203.0</td>\n",
       "      <td>9.7</td>\n",
       "      <td>97</td>\n",
       "      <td>8</td>\n",
       "      <td>28</td>\n",
       "      <td>36.111111</td>\n",
       "    </tr>\n",
       "    <tr>\n",
       "      <th>121</th>\n",
       "      <td>122</td>\n",
       "      <td>84.0</td>\n",
       "      <td>237.0</td>\n",
       "      <td>6.3</td>\n",
       "      <td>96</td>\n",
       "      <td>8</td>\n",
       "      <td>30</td>\n",
       "      <td>35.555556</td>\n",
       "    </tr>\n",
       "    <tr>\n",
       "      <th>122</th>\n",
       "      <td>123</td>\n",
       "      <td>85.0</td>\n",
       "      <td>188.0</td>\n",
       "      <td>6.3</td>\n",
       "      <td>94</td>\n",
       "      <td>8</td>\n",
       "      <td>31</td>\n",
       "      <td>34.444444</td>\n",
       "    </tr>\n",
       "    <tr>\n",
       "      <th>120</th>\n",
       "      <td>121</td>\n",
       "      <td>118.0</td>\n",
       "      <td>225.0</td>\n",
       "      <td>2.3</td>\n",
       "      <td>94</td>\n",
       "      <td>8</td>\n",
       "      <td>29</td>\n",
       "      <td>34.444444</td>\n",
       "    </tr>\n",
       "    <tr>\n",
       "      <th>41</th>\n",
       "      <td>42</td>\n",
       "      <td>NaN</td>\n",
       "      <td>259.0</td>\n",
       "      <td>10.9</td>\n",
       "      <td>93</td>\n",
       "      <td>6</td>\n",
       "      <td>11</td>\n",
       "      <td>33.888889</td>\n",
       "    </tr>\n",
       "    <tr>\n",
       "      <th>126</th>\n",
       "      <td>127</td>\n",
       "      <td>91.0</td>\n",
       "      <td>189.0</td>\n",
       "      <td>4.6</td>\n",
       "      <td>93</td>\n",
       "      <td>9</td>\n",
       "      <td>4</td>\n",
       "      <td>33.888889</td>\n",
       "    </tr>\n",
       "    <tr>\n",
       "      <th>125</th>\n",
       "      <td>126</td>\n",
       "      <td>73.0</td>\n",
       "      <td>183.0</td>\n",
       "      <td>2.8</td>\n",
       "      <td>93</td>\n",
       "      <td>9</td>\n",
       "      <td>3</td>\n",
       "      <td>33.888889</td>\n",
       "    </tr>\n",
       "    <tr>\n",
       "      <th>124</th>\n",
       "      <td>125</td>\n",
       "      <td>78.0</td>\n",
       "      <td>197.0</td>\n",
       "      <td>5.1</td>\n",
       "      <td>92</td>\n",
       "      <td>9</td>\n",
       "      <td>2</td>\n",
       "      <td>33.333333</td>\n",
       "    </tr>\n",
       "    <tr>\n",
       "      <th>42</th>\n",
       "      <td>43</td>\n",
       "      <td>NaN</td>\n",
       "      <td>250.0</td>\n",
       "      <td>9.2</td>\n",
       "      <td>92</td>\n",
       "      <td>6</td>\n",
       "      <td>12</td>\n",
       "      <td>33.333333</td>\n",
       "    </tr>\n",
       "    <tr>\n",
       "      <th>101</th>\n",
       "      <td>102</td>\n",
       "      <td>NaN</td>\n",
       "      <td>222.0</td>\n",
       "      <td>8.6</td>\n",
       "      <td>92</td>\n",
       "      <td>8</td>\n",
       "      <td>10</td>\n",
       "      <td>33.333333</td>\n",
       "    </tr>\n",
       "    <tr>\n",
       "      <th>68</th>\n",
       "      <td>69</td>\n",
       "      <td>97.0</td>\n",
       "      <td>267.0</td>\n",
       "      <td>6.3</td>\n",
       "      <td>92</td>\n",
       "      <td>7</td>\n",
       "      <td>8</td>\n",
       "      <td>33.333333</td>\n",
       "    </tr>\n",
       "    <tr>\n",
       "      <th>69</th>\n",
       "      <td>70</td>\n",
       "      <td>97.0</td>\n",
       "      <td>272.0</td>\n",
       "      <td>5.7</td>\n",
       "      <td>92</td>\n",
       "      <td>7</td>\n",
       "      <td>9</td>\n",
       "      <td>33.333333</td>\n",
       "    </tr>\n",
       "    <tr>\n",
       "      <th>74</th>\n",
       "      <td>75</td>\n",
       "      <td>NaN</td>\n",
       "      <td>291.0</td>\n",
       "      <td>14.9</td>\n",
       "      <td>91</td>\n",
       "      <td>7</td>\n",
       "      <td>14</td>\n",
       "      <td>32.777778</td>\n",
       "    </tr>\n",
       "    <tr>\n",
       "      <th>123</th>\n",
       "      <td>124</td>\n",
       "      <td>96.0</td>\n",
       "      <td>167.0</td>\n",
       "      <td>6.9</td>\n",
       "      <td>91</td>\n",
       "      <td>9</td>\n",
       "      <td>1</td>\n",
       "      <td>32.777778</td>\n",
       "    </tr>\n",
       "    <tr>\n",
       "      <th>39</th>\n",
       "      <td>40</td>\n",
       "      <td>71.0</td>\n",
       "      <td>291.0</td>\n",
       "      <td>13.8</td>\n",
       "      <td>90</td>\n",
       "      <td>6</td>\n",
       "      <td>9</td>\n",
       "      <td>32.222222</td>\n",
       "    </tr>\n",
       "    <tr>\n",
       "      <th>100</th>\n",
       "      <td>101</td>\n",
       "      <td>110.0</td>\n",
       "      <td>207.0</td>\n",
       "      <td>8.0</td>\n",
       "      <td>90</td>\n",
       "      <td>8</td>\n",
       "      <td>9</td>\n",
       "      <td>32.222222</td>\n",
       "    </tr>\n",
       "    <tr>\n",
       "      <th>99</th>\n",
       "      <td>100</td>\n",
       "      <td>89.0</td>\n",
       "      <td>229.0</td>\n",
       "      <td>10.3</td>\n",
       "      <td>90</td>\n",
       "      <td>8</td>\n",
       "      <td>8</td>\n",
       "      <td>32.222222</td>\n",
       "    </tr>\n",
       "    <tr>\n",
       "      <th>70</th>\n",
       "      <td>71</td>\n",
       "      <td>85.0</td>\n",
       "      <td>175.0</td>\n",
       "      <td>7.4</td>\n",
       "      <td>89</td>\n",
       "      <td>7</td>\n",
       "      <td>10</td>\n",
       "      <td>31.666667</td>\n",
       "    </tr>\n",
       "    <tr>\n",
       "      <th>98</th>\n",
       "      <td>99</td>\n",
       "      <td>122.0</td>\n",
       "      <td>255.0</td>\n",
       "      <td>4.0</td>\n",
       "      <td>89</td>\n",
       "      <td>8</td>\n",
       "      <td>7</td>\n",
       "      <td>31.666667</td>\n",
       "    </tr>\n",
       "    <tr>\n",
       "      <th>118</th>\n",
       "      <td>119</td>\n",
       "      <td>NaN</td>\n",
       "      <td>153.0</td>\n",
       "      <td>5.7</td>\n",
       "      <td>88</td>\n",
       "      <td>8</td>\n",
       "      <td>27</td>\n",
       "      <td>31.111111</td>\n",
       "    </tr>\n",
       "    <tr>\n",
       "      <th>88</th>\n",
       "      <td>89</td>\n",
       "      <td>82.0</td>\n",
       "      <td>213.0</td>\n",
       "      <td>7.4</td>\n",
       "      <td>88</td>\n",
       "      <td>7</td>\n",
       "      <td>28</td>\n",
       "      <td>31.111111</td>\n",
       "    </tr>\n",
       "    <tr>\n",
       "      <th>67</th>\n",
       "      <td>68</td>\n",
       "      <td>77.0</td>\n",
       "      <td>276.0</td>\n",
       "      <td>5.1</td>\n",
       "      <td>88</td>\n",
       "      <td>7</td>\n",
       "      <td>7</td>\n",
       "      <td>31.111111</td>\n",
       "    </tr>\n",
       "    <tr>\n",
       "      <th>40</th>\n",
       "      <td>41</td>\n",
       "      <td>39.0</td>\n",
       "      <td>323.0</td>\n",
       "      <td>11.5</td>\n",
       "      <td>87</td>\n",
       "      <td>6</td>\n",
       "      <td>10</td>\n",
       "      <td>30.555556</td>\n",
       "    </tr>\n",
       "    <tr>\n",
       "      <th>127</th>\n",
       "      <td>128</td>\n",
       "      <td>47.0</td>\n",
       "      <td>95.0</td>\n",
       "      <td>7.4</td>\n",
       "      <td>87</td>\n",
       "      <td>9</td>\n",
       "      <td>5</td>\n",
       "      <td>30.555556</td>\n",
       "    </tr>\n",
       "    <tr>\n",
       "      <th>97</th>\n",
       "      <td>98</td>\n",
       "      <td>66.0</td>\n",
       "      <td>NaN</td>\n",
       "      <td>4.6</td>\n",
       "      <td>87</td>\n",
       "      <td>8</td>\n",
       "      <td>6</td>\n",
       "      <td>30.555556</td>\n",
       "    </tr>\n",
       "    <tr>\n",
       "      <th>79</th>\n",
       "      <td>80</td>\n",
       "      <td>79.0</td>\n",
       "      <td>187.0</td>\n",
       "      <td>5.1</td>\n",
       "      <td>87</td>\n",
       "      <td>7</td>\n",
       "      <td>19</td>\n",
       "      <td>30.555556</td>\n",
       "    </tr>\n",
       "    <tr>\n",
       "      <th>38</th>\n",
       "      <td>39</td>\n",
       "      <td>NaN</td>\n",
       "      <td>273.0</td>\n",
       "      <td>6.9</td>\n",
       "      <td>87</td>\n",
       "      <td>6</td>\n",
       "      <td>8</td>\n",
       "      <td>30.555556</td>\n",
       "    </tr>\n",
       "    <tr>\n",
       "      <th>84</th>\n",
       "      <td>85</td>\n",
       "      <td>80.0</td>\n",
       "      <td>294.0</td>\n",
       "      <td>8.6</td>\n",
       "      <td>86</td>\n",
       "      <td>7</td>\n",
       "      <td>24</td>\n",
       "      <td>30.000000</td>\n",
       "    </tr>\n",
       "    <tr>\n",
       "      <th>102</th>\n",
       "      <td>103</td>\n",
       "      <td>NaN</td>\n",
       "      <td>137.0</td>\n",
       "      <td>11.5</td>\n",
       "      <td>86</td>\n",
       "      <td>8</td>\n",
       "      <td>11</td>\n",
       "      <td>30.000000</td>\n",
       "    </tr>\n",
       "    <tr>\n",
       "      <th>103</th>\n",
       "      <td>104</td>\n",
       "      <td>44.0</td>\n",
       "      <td>192.0</td>\n",
       "      <td>11.5</td>\n",
       "      <td>86</td>\n",
       "      <td>8</td>\n",
       "      <td>12</td>\n",
       "      <td>30.000000</td>\n",
       "    </tr>\n",
       "  </tbody>\n",
       "</table>\n",
       "</div>"
      ],
      "text/plain": [
       "     Unnamed: 0  Ozone  Solar.R  Wind  Temp  Month  Day      TempC\n",
       "119         120   76.0    203.0   9.7    97      8   28  36.111111\n",
       "121         122   84.0    237.0   6.3    96      8   30  35.555556\n",
       "122         123   85.0    188.0   6.3    94      8   31  34.444444\n",
       "120         121  118.0    225.0   2.3    94      8   29  34.444444\n",
       "41           42    NaN    259.0  10.9    93      6   11  33.888889\n",
       "126         127   91.0    189.0   4.6    93      9    4  33.888889\n",
       "125         126   73.0    183.0   2.8    93      9    3  33.888889\n",
       "124         125   78.0    197.0   5.1    92      9    2  33.333333\n",
       "42           43    NaN    250.0   9.2    92      6   12  33.333333\n",
       "101         102    NaN    222.0   8.6    92      8   10  33.333333\n",
       "68           69   97.0    267.0   6.3    92      7    8  33.333333\n",
       "69           70   97.0    272.0   5.7    92      7    9  33.333333\n",
       "74           75    NaN    291.0  14.9    91      7   14  32.777778\n",
       "123         124   96.0    167.0   6.9    91      9    1  32.777778\n",
       "39           40   71.0    291.0  13.8    90      6    9  32.222222\n",
       "100         101  110.0    207.0   8.0    90      8    9  32.222222\n",
       "99          100   89.0    229.0  10.3    90      8    8  32.222222\n",
       "70           71   85.0    175.0   7.4    89      7   10  31.666667\n",
       "98           99  122.0    255.0   4.0    89      8    7  31.666667\n",
       "118         119    NaN    153.0   5.7    88      8   27  31.111111\n",
       "88           89   82.0    213.0   7.4    88      7   28  31.111111\n",
       "67           68   77.0    276.0   5.1    88      7    7  31.111111\n",
       "40           41   39.0    323.0  11.5    87      6   10  30.555556\n",
       "127         128   47.0     95.0   7.4    87      9    5  30.555556\n",
       "97           98   66.0      NaN   4.6    87      8    6  30.555556\n",
       "79           80   79.0    187.0   5.1    87      7   19  30.555556\n",
       "38           39    NaN    273.0   6.9    87      6    8  30.555556\n",
       "84           85   80.0    294.0   8.6    86      7   24  30.000000\n",
       "102         103    NaN    137.0  11.5    86      8   11  30.000000\n",
       "103         104   44.0    192.0  11.5    86      8   12  30.000000"
      ]
     },
     "execution_count": 21,
     "metadata": {},
     "output_type": "execute_result"
    }
   ],
   "source": [
    "#sort the dataframe by temp in descending order \n",
    "sorted_df = df.sort_values(by='Temp', ascending=False)\n",
    "#just take the first 30th. \n",
    "hottest_days=sorted_df.head(30)\n",
    "hottest_days\n"
   ]
  },
  {
   "cell_type": "markdown",
   "id": "86780f3f",
   "metadata": {
    "papermill": {
     "duration": 0.012186,
     "end_time": "2023-06-05T15:03:34.765556",
     "exception": false,
     "start_time": "2023-06-05T15:03:34.753370",
     "status": "completed"
    },
    "tags": []
   },
   "source": [
    "8. Inspect which were the hottest days, but also with the highest ozone values."
   ]
  },
  {
   "cell_type": "code",
   "execution_count": 22,
   "id": "5de0d3fa",
   "metadata": {
    "execution": {
     "iopub.execute_input": "2023-06-05T15:03:34.792236Z",
     "iopub.status.busy": "2023-06-05T15:03:34.791451Z",
     "iopub.status.idle": "2023-06-05T15:03:34.820716Z",
     "shell.execute_reply": "2023-06-05T15:03:34.819807Z"
    },
    "papermill": {
     "duration": 0.045023,
     "end_time": "2023-06-05T15:03:34.822733",
     "exception": false,
     "start_time": "2023-06-05T15:03:34.777710",
     "status": "completed"
    },
    "tags": []
   },
   "outputs": [
    {
     "data": {
      "text/html": [
       "<div>\n",
       "<style scoped>\n",
       "    .dataframe tbody tr th:only-of-type {\n",
       "        vertical-align: middle;\n",
       "    }\n",
       "\n",
       "    .dataframe tbody tr th {\n",
       "        vertical-align: top;\n",
       "    }\n",
       "\n",
       "    .dataframe thead th {\n",
       "        text-align: right;\n",
       "    }\n",
       "</style>\n",
       "<table border=\"1\" class=\"dataframe\">\n",
       "  <thead>\n",
       "    <tr style=\"text-align: right;\">\n",
       "      <th></th>\n",
       "      <th>Unnamed: 0</th>\n",
       "      <th>Ozone</th>\n",
       "      <th>Solar.R</th>\n",
       "      <th>Wind</th>\n",
       "      <th>Temp</th>\n",
       "      <th>Month</th>\n",
       "      <th>Day</th>\n",
       "      <th>TempC</th>\n",
       "    </tr>\n",
       "  </thead>\n",
       "  <tbody>\n",
       "    <tr>\n",
       "      <th>119</th>\n",
       "      <td>120</td>\n",
       "      <td>76.0</td>\n",
       "      <td>203.0</td>\n",
       "      <td>9.7</td>\n",
       "      <td>97</td>\n",
       "      <td>8</td>\n",
       "      <td>28</td>\n",
       "      <td>36.111111</td>\n",
       "    </tr>\n",
       "    <tr>\n",
       "      <th>121</th>\n",
       "      <td>122</td>\n",
       "      <td>84.0</td>\n",
       "      <td>237.0</td>\n",
       "      <td>6.3</td>\n",
       "      <td>96</td>\n",
       "      <td>8</td>\n",
       "      <td>30</td>\n",
       "      <td>35.555556</td>\n",
       "    </tr>\n",
       "    <tr>\n",
       "      <th>120</th>\n",
       "      <td>121</td>\n",
       "      <td>118.0</td>\n",
       "      <td>225.0</td>\n",
       "      <td>2.3</td>\n",
       "      <td>94</td>\n",
       "      <td>8</td>\n",
       "      <td>29</td>\n",
       "      <td>34.444444</td>\n",
       "    </tr>\n",
       "    <tr>\n",
       "      <th>122</th>\n",
       "      <td>123</td>\n",
       "      <td>85.0</td>\n",
       "      <td>188.0</td>\n",
       "      <td>6.3</td>\n",
       "      <td>94</td>\n",
       "      <td>8</td>\n",
       "      <td>31</td>\n",
       "      <td>34.444444</td>\n",
       "    </tr>\n",
       "    <tr>\n",
       "      <th>126</th>\n",
       "      <td>127</td>\n",
       "      <td>91.0</td>\n",
       "      <td>189.0</td>\n",
       "      <td>4.6</td>\n",
       "      <td>93</td>\n",
       "      <td>9</td>\n",
       "      <td>4</td>\n",
       "      <td>33.888889</td>\n",
       "    </tr>\n",
       "    <tr>\n",
       "      <th>125</th>\n",
       "      <td>126</td>\n",
       "      <td>73.0</td>\n",
       "      <td>183.0</td>\n",
       "      <td>2.8</td>\n",
       "      <td>93</td>\n",
       "      <td>9</td>\n",
       "      <td>3</td>\n",
       "      <td>33.888889</td>\n",
       "    </tr>\n",
       "    <tr>\n",
       "      <th>41</th>\n",
       "      <td>42</td>\n",
       "      <td>NaN</td>\n",
       "      <td>259.0</td>\n",
       "      <td>10.9</td>\n",
       "      <td>93</td>\n",
       "      <td>6</td>\n",
       "      <td>11</td>\n",
       "      <td>33.888889</td>\n",
       "    </tr>\n",
       "    <tr>\n",
       "      <th>68</th>\n",
       "      <td>69</td>\n",
       "      <td>97.0</td>\n",
       "      <td>267.0</td>\n",
       "      <td>6.3</td>\n",
       "      <td>92</td>\n",
       "      <td>7</td>\n",
       "      <td>8</td>\n",
       "      <td>33.333333</td>\n",
       "    </tr>\n",
       "    <tr>\n",
       "      <th>69</th>\n",
       "      <td>70</td>\n",
       "      <td>97.0</td>\n",
       "      <td>272.0</td>\n",
       "      <td>5.7</td>\n",
       "      <td>92</td>\n",
       "      <td>7</td>\n",
       "      <td>9</td>\n",
       "      <td>33.333333</td>\n",
       "    </tr>\n",
       "    <tr>\n",
       "      <th>124</th>\n",
       "      <td>125</td>\n",
       "      <td>78.0</td>\n",
       "      <td>197.0</td>\n",
       "      <td>5.1</td>\n",
       "      <td>92</td>\n",
       "      <td>9</td>\n",
       "      <td>2</td>\n",
       "      <td>33.333333</td>\n",
       "    </tr>\n",
       "    <tr>\n",
       "      <th>42</th>\n",
       "      <td>43</td>\n",
       "      <td>NaN</td>\n",
       "      <td>250.0</td>\n",
       "      <td>9.2</td>\n",
       "      <td>92</td>\n",
       "      <td>6</td>\n",
       "      <td>12</td>\n",
       "      <td>33.333333</td>\n",
       "    </tr>\n",
       "    <tr>\n",
       "      <th>101</th>\n",
       "      <td>102</td>\n",
       "      <td>NaN</td>\n",
       "      <td>222.0</td>\n",
       "      <td>8.6</td>\n",
       "      <td>92</td>\n",
       "      <td>8</td>\n",
       "      <td>10</td>\n",
       "      <td>33.333333</td>\n",
       "    </tr>\n",
       "    <tr>\n",
       "      <th>123</th>\n",
       "      <td>124</td>\n",
       "      <td>96.0</td>\n",
       "      <td>167.0</td>\n",
       "      <td>6.9</td>\n",
       "      <td>91</td>\n",
       "      <td>9</td>\n",
       "      <td>1</td>\n",
       "      <td>32.777778</td>\n",
       "    </tr>\n",
       "    <tr>\n",
       "      <th>74</th>\n",
       "      <td>75</td>\n",
       "      <td>NaN</td>\n",
       "      <td>291.0</td>\n",
       "      <td>14.9</td>\n",
       "      <td>91</td>\n",
       "      <td>7</td>\n",
       "      <td>14</td>\n",
       "      <td>32.777778</td>\n",
       "    </tr>\n",
       "    <tr>\n",
       "      <th>100</th>\n",
       "      <td>101</td>\n",
       "      <td>110.0</td>\n",
       "      <td>207.0</td>\n",
       "      <td>8.0</td>\n",
       "      <td>90</td>\n",
       "      <td>8</td>\n",
       "      <td>9</td>\n",
       "      <td>32.222222</td>\n",
       "    </tr>\n",
       "    <tr>\n",
       "      <th>99</th>\n",
       "      <td>100</td>\n",
       "      <td>89.0</td>\n",
       "      <td>229.0</td>\n",
       "      <td>10.3</td>\n",
       "      <td>90</td>\n",
       "      <td>8</td>\n",
       "      <td>8</td>\n",
       "      <td>32.222222</td>\n",
       "    </tr>\n",
       "    <tr>\n",
       "      <th>39</th>\n",
       "      <td>40</td>\n",
       "      <td>71.0</td>\n",
       "      <td>291.0</td>\n",
       "      <td>13.8</td>\n",
       "      <td>90</td>\n",
       "      <td>6</td>\n",
       "      <td>9</td>\n",
       "      <td>32.222222</td>\n",
       "    </tr>\n",
       "    <tr>\n",
       "      <th>98</th>\n",
       "      <td>99</td>\n",
       "      <td>122.0</td>\n",
       "      <td>255.0</td>\n",
       "      <td>4.0</td>\n",
       "      <td>89</td>\n",
       "      <td>8</td>\n",
       "      <td>7</td>\n",
       "      <td>31.666667</td>\n",
       "    </tr>\n",
       "    <tr>\n",
       "      <th>70</th>\n",
       "      <td>71</td>\n",
       "      <td>85.0</td>\n",
       "      <td>175.0</td>\n",
       "      <td>7.4</td>\n",
       "      <td>89</td>\n",
       "      <td>7</td>\n",
       "      <td>10</td>\n",
       "      <td>31.666667</td>\n",
       "    </tr>\n",
       "    <tr>\n",
       "      <th>88</th>\n",
       "      <td>89</td>\n",
       "      <td>82.0</td>\n",
       "      <td>213.0</td>\n",
       "      <td>7.4</td>\n",
       "      <td>88</td>\n",
       "      <td>7</td>\n",
       "      <td>28</td>\n",
       "      <td>31.111111</td>\n",
       "    </tr>\n",
       "    <tr>\n",
       "      <th>67</th>\n",
       "      <td>68</td>\n",
       "      <td>77.0</td>\n",
       "      <td>276.0</td>\n",
       "      <td>5.1</td>\n",
       "      <td>88</td>\n",
       "      <td>7</td>\n",
       "      <td>7</td>\n",
       "      <td>31.111111</td>\n",
       "    </tr>\n",
       "    <tr>\n",
       "      <th>118</th>\n",
       "      <td>119</td>\n",
       "      <td>NaN</td>\n",
       "      <td>153.0</td>\n",
       "      <td>5.7</td>\n",
       "      <td>88</td>\n",
       "      <td>8</td>\n",
       "      <td>27</td>\n",
       "      <td>31.111111</td>\n",
       "    </tr>\n",
       "    <tr>\n",
       "      <th>79</th>\n",
       "      <td>80</td>\n",
       "      <td>79.0</td>\n",
       "      <td>187.0</td>\n",
       "      <td>5.1</td>\n",
       "      <td>87</td>\n",
       "      <td>7</td>\n",
       "      <td>19</td>\n",
       "      <td>30.555556</td>\n",
       "    </tr>\n",
       "    <tr>\n",
       "      <th>97</th>\n",
       "      <td>98</td>\n",
       "      <td>66.0</td>\n",
       "      <td>NaN</td>\n",
       "      <td>4.6</td>\n",
       "      <td>87</td>\n",
       "      <td>8</td>\n",
       "      <td>6</td>\n",
       "      <td>30.555556</td>\n",
       "    </tr>\n",
       "    <tr>\n",
       "      <th>127</th>\n",
       "      <td>128</td>\n",
       "      <td>47.0</td>\n",
       "      <td>95.0</td>\n",
       "      <td>7.4</td>\n",
       "      <td>87</td>\n",
       "      <td>9</td>\n",
       "      <td>5</td>\n",
       "      <td>30.555556</td>\n",
       "    </tr>\n",
       "    <tr>\n",
       "      <th>40</th>\n",
       "      <td>41</td>\n",
       "      <td>39.0</td>\n",
       "      <td>323.0</td>\n",
       "      <td>11.5</td>\n",
       "      <td>87</td>\n",
       "      <td>6</td>\n",
       "      <td>10</td>\n",
       "      <td>30.555556</td>\n",
       "    </tr>\n",
       "    <tr>\n",
       "      <th>38</th>\n",
       "      <td>39</td>\n",
       "      <td>NaN</td>\n",
       "      <td>273.0</td>\n",
       "      <td>6.9</td>\n",
       "      <td>87</td>\n",
       "      <td>6</td>\n",
       "      <td>8</td>\n",
       "      <td>30.555556</td>\n",
       "    </tr>\n",
       "    <tr>\n",
       "      <th>84</th>\n",
       "      <td>85</td>\n",
       "      <td>80.0</td>\n",
       "      <td>294.0</td>\n",
       "      <td>8.6</td>\n",
       "      <td>86</td>\n",
       "      <td>7</td>\n",
       "      <td>24</td>\n",
       "      <td>30.000000</td>\n",
       "    </tr>\n",
       "    <tr>\n",
       "      <th>95</th>\n",
       "      <td>96</td>\n",
       "      <td>78.0</td>\n",
       "      <td>NaN</td>\n",
       "      <td>6.9</td>\n",
       "      <td>86</td>\n",
       "      <td>8</td>\n",
       "      <td>4</td>\n",
       "      <td>30.000000</td>\n",
       "    </tr>\n",
       "    <tr>\n",
       "      <th>117</th>\n",
       "      <td>118</td>\n",
       "      <td>73.0</td>\n",
       "      <td>215.0</td>\n",
       "      <td>8.0</td>\n",
       "      <td>86</td>\n",
       "      <td>8</td>\n",
       "      <td>26</td>\n",
       "      <td>30.000000</td>\n",
       "    </tr>\n",
       "  </tbody>\n",
       "</table>\n",
       "</div>"
      ],
      "text/plain": [
       "     Unnamed: 0  Ozone  Solar.R  Wind  Temp  Month  Day      TempC\n",
       "119         120   76.0    203.0   9.7    97      8   28  36.111111\n",
       "121         122   84.0    237.0   6.3    96      8   30  35.555556\n",
       "120         121  118.0    225.0   2.3    94      8   29  34.444444\n",
       "122         123   85.0    188.0   6.3    94      8   31  34.444444\n",
       "126         127   91.0    189.0   4.6    93      9    4  33.888889\n",
       "125         126   73.0    183.0   2.8    93      9    3  33.888889\n",
       "41           42    NaN    259.0  10.9    93      6   11  33.888889\n",
       "68           69   97.0    267.0   6.3    92      7    8  33.333333\n",
       "69           70   97.0    272.0   5.7    92      7    9  33.333333\n",
       "124         125   78.0    197.0   5.1    92      9    2  33.333333\n",
       "42           43    NaN    250.0   9.2    92      6   12  33.333333\n",
       "101         102    NaN    222.0   8.6    92      8   10  33.333333\n",
       "123         124   96.0    167.0   6.9    91      9    1  32.777778\n",
       "74           75    NaN    291.0  14.9    91      7   14  32.777778\n",
       "100         101  110.0    207.0   8.0    90      8    9  32.222222\n",
       "99          100   89.0    229.0  10.3    90      8    8  32.222222\n",
       "39           40   71.0    291.0  13.8    90      6    9  32.222222\n",
       "98           99  122.0    255.0   4.0    89      8    7  31.666667\n",
       "70           71   85.0    175.0   7.4    89      7   10  31.666667\n",
       "88           89   82.0    213.0   7.4    88      7   28  31.111111\n",
       "67           68   77.0    276.0   5.1    88      7    7  31.111111\n",
       "118         119    NaN    153.0   5.7    88      8   27  31.111111\n",
       "79           80   79.0    187.0   5.1    87      7   19  30.555556\n",
       "97           98   66.0      NaN   4.6    87      8    6  30.555556\n",
       "127         128   47.0     95.0   7.4    87      9    5  30.555556\n",
       "40           41   39.0    323.0  11.5    87      6   10  30.555556\n",
       "38           39    NaN    273.0   6.9    87      6    8  30.555556\n",
       "84           85   80.0    294.0   8.6    86      7   24  30.000000\n",
       "95           96   78.0      NaN   6.9    86      8    4  30.000000\n",
       "117         118   73.0    215.0   8.0    86      8   26  30.000000"
      ]
     },
     "execution_count": 22,
     "metadata": {},
     "output_type": "execute_result"
    }
   ],
   "source": [
    "#sort the dataframe by temp and ozone \n",
    "sorted_df = df.sort_values(by=['Temp', 'Ozone'],ascending=[False,False])\n",
    "#select the gottest days with highest ozone values \n",
    "hottest_days = sorted_df.head(30)\n",
    "hottest_days"
   ]
  },
  {
   "cell_type": "markdown",
   "id": "f3746088",
   "metadata": {
    "papermill": {
     "duration": 0.017745,
     "end_time": "2023-06-05T15:03:34.854521",
     "exception": false,
     "start_time": "2023-06-05T15:03:34.836776",
     "status": "completed"
    },
    "tags": []
   },
   "source": [
    "9. Inspect the number of days for which there was a register for each month."
   ]
  },
  {
   "cell_type": "code",
   "execution_count": 23,
   "id": "51f025d0",
   "metadata": {
    "execution": {
     "iopub.execute_input": "2023-06-05T15:03:34.887904Z",
     "iopub.status.busy": "2023-06-05T15:03:34.887481Z",
     "iopub.status.idle": "2023-06-05T15:03:34.895628Z",
     "shell.execute_reply": "2023-06-05T15:03:34.894089Z"
    },
    "papermill": {
     "duration": 0.027289,
     "end_time": "2023-06-05T15:03:34.897641",
     "exception": false,
     "start_time": "2023-06-05T15:03:34.870352",
     "status": "completed"
    },
    "tags": []
   },
   "outputs": [
    {
     "name": "stdout",
     "output_type": "stream",
     "text": [
      "Month\n",
      "5    31\n",
      "6    30\n",
      "7    31\n",
      "8    31\n",
      "9    30\n",
      "Name: Day, dtype: int64\n"
     ]
    }
   ],
   "source": [
    "#df = pd.read_csv('/kaggle/input/newyork-air-quality/airquality.csv')\n",
    "#group the dataframe by months and count the number of records \n",
    "days_per_month = df.groupby('Month')['Day'].count()\n",
    "print(days_per_month)"
   ]
  },
  {
   "cell_type": "markdown",
   "id": "13c0f352",
   "metadata": {
    "papermill": {
     "duration": 0.012009,
     "end_time": "2023-06-05T15:03:34.922742",
     "exception": false,
     "start_time": "2023-06-05T15:03:34.910733",
     "status": "completed"
    },
    "tags": []
   },
   "source": [
    "10. For each month, obtain the minimum and the maximum temperature registered in Celsius."
   ]
  },
  {
   "cell_type": "code",
   "execution_count": 24,
   "id": "24b01011",
   "metadata": {
    "execution": {
     "iopub.execute_input": "2023-06-05T15:03:34.950611Z",
     "iopub.status.busy": "2023-06-05T15:03:34.950139Z",
     "iopub.status.idle": "2023-06-05T15:03:34.972384Z",
     "shell.execute_reply": "2023-06-05T15:03:34.970931Z"
    },
    "papermill": {
     "duration": 0.039624,
     "end_time": "2023-06-05T15:03:34.974559",
     "exception": false,
     "start_time": "2023-06-05T15:03:34.934935",
     "status": "completed"
    },
    "tags": []
   },
   "outputs": [
    {
     "data": {
      "text/html": [
       "<div>\n",
       "<style scoped>\n",
       "    .dataframe tbody tr th:only-of-type {\n",
       "        vertical-align: middle;\n",
       "    }\n",
       "\n",
       "    .dataframe tbody tr th {\n",
       "        vertical-align: top;\n",
       "    }\n",
       "\n",
       "    .dataframe thead th {\n",
       "        text-align: right;\n",
       "    }\n",
       "</style>\n",
       "<table border=\"1\" class=\"dataframe\">\n",
       "  <thead>\n",
       "    <tr style=\"text-align: right;\">\n",
       "      <th></th>\n",
       "      <th>min</th>\n",
       "      <th>max</th>\n",
       "    </tr>\n",
       "    <tr>\n",
       "      <th>Month</th>\n",
       "      <th></th>\n",
       "      <th></th>\n",
       "    </tr>\n",
       "  </thead>\n",
       "  <tbody>\n",
       "    <tr>\n",
       "      <th>5</th>\n",
       "      <td>13.333333</td>\n",
       "      <td>27.222222</td>\n",
       "    </tr>\n",
       "    <tr>\n",
       "      <th>6</th>\n",
       "      <td>18.333333</td>\n",
       "      <td>33.888889</td>\n",
       "    </tr>\n",
       "    <tr>\n",
       "      <th>7</th>\n",
       "      <td>22.777778</td>\n",
       "      <td>33.333333</td>\n",
       "    </tr>\n",
       "    <tr>\n",
       "      <th>8</th>\n",
       "      <td>22.222222</td>\n",
       "      <td>36.111111</td>\n",
       "    </tr>\n",
       "    <tr>\n",
       "      <th>9</th>\n",
       "      <td>17.222222</td>\n",
       "      <td>33.888889</td>\n",
       "    </tr>\n",
       "  </tbody>\n",
       "</table>\n",
       "</div>"
      ],
      "text/plain": [
       "             min        max\n",
       "Month                      \n",
       "5      13.333333  27.222222\n",
       "6      18.333333  33.888889\n",
       "7      22.777778  33.333333\n",
       "8      22.222222  36.111111\n",
       "9      17.222222  33.888889"
      ]
     },
     "execution_count": 24,
     "metadata": {},
     "output_type": "execute_result"
    }
   ],
   "source": [
    "#group the dataframe by month and calculate the min, max \n",
    "temp_status=df.groupby('Month')['TempC'].agg(['min','max'])\n",
    "temp_status"
   ]
  },
  {
   "cell_type": "markdown",
   "id": "a8ee090a",
   "metadata": {
    "papermill": {
     "duration": 0.012019,
     "end_time": "2023-06-05T15:03:34.999184",
     "exception": false,
     "start_time": "2023-06-05T15:03:34.987165",
     "status": "completed"
    },
    "tags": []
   },
   "source": [
    "11. Obtain the average of the following parameters by month: temperature in celsius, wind, solar radiation and ozone"
   ]
  },
  {
   "cell_type": "code",
   "execution_count": 25,
   "id": "2b6d61db",
   "metadata": {
    "execution": {
     "iopub.execute_input": "2023-06-05T15:03:35.031072Z",
     "iopub.status.busy": "2023-06-05T15:03:35.029874Z",
     "iopub.status.idle": "2023-06-05T15:03:35.048284Z",
     "shell.execute_reply": "2023-06-05T15:03:35.047260Z"
    },
    "papermill": {
     "duration": 0.038593,
     "end_time": "2023-06-05T15:03:35.050356",
     "exception": false,
     "start_time": "2023-06-05T15:03:35.011763",
     "status": "completed"
    },
    "tags": []
   },
   "outputs": [
    {
     "name": "stderr",
     "output_type": "stream",
     "text": [
      "/tmp/ipykernel_20/4164459167.py:2: FutureWarning: Indexing with multiple keys (implicitly converted to a tuple of keys) will be deprecated, use a list instead.\n",
      "  averages = df.groupby('Month')['Temp', 'Wind', 'Solar.R','Ozone'].mean()\n"
     ]
    },
    {
     "data": {
      "text/html": [
       "<div>\n",
       "<style scoped>\n",
       "    .dataframe tbody tr th:only-of-type {\n",
       "        vertical-align: middle;\n",
       "    }\n",
       "\n",
       "    .dataframe tbody tr th {\n",
       "        vertical-align: top;\n",
       "    }\n",
       "\n",
       "    .dataframe thead th {\n",
       "        text-align: right;\n",
       "    }\n",
       "</style>\n",
       "<table border=\"1\" class=\"dataframe\">\n",
       "  <thead>\n",
       "    <tr style=\"text-align: right;\">\n",
       "      <th></th>\n",
       "      <th>Temp</th>\n",
       "      <th>Wind</th>\n",
       "      <th>Solar.R</th>\n",
       "      <th>Ozone</th>\n",
       "    </tr>\n",
       "    <tr>\n",
       "      <th>Month</th>\n",
       "      <th></th>\n",
       "      <th></th>\n",
       "      <th></th>\n",
       "      <th></th>\n",
       "    </tr>\n",
       "  </thead>\n",
       "  <tbody>\n",
       "    <tr>\n",
       "      <th>5</th>\n",
       "      <td>65.548387</td>\n",
       "      <td>11.622581</td>\n",
       "      <td>181.296296</td>\n",
       "      <td>23.615385</td>\n",
       "    </tr>\n",
       "    <tr>\n",
       "      <th>6</th>\n",
       "      <td>79.100000</td>\n",
       "      <td>10.266667</td>\n",
       "      <td>190.166667</td>\n",
       "      <td>29.444444</td>\n",
       "    </tr>\n",
       "    <tr>\n",
       "      <th>7</th>\n",
       "      <td>83.903226</td>\n",
       "      <td>8.941935</td>\n",
       "      <td>216.483871</td>\n",
       "      <td>59.115385</td>\n",
       "    </tr>\n",
       "    <tr>\n",
       "      <th>8</th>\n",
       "      <td>83.967742</td>\n",
       "      <td>8.793548</td>\n",
       "      <td>171.857143</td>\n",
       "      <td>59.961538</td>\n",
       "    </tr>\n",
       "    <tr>\n",
       "      <th>9</th>\n",
       "      <td>76.900000</td>\n",
       "      <td>10.180000</td>\n",
       "      <td>167.433333</td>\n",
       "      <td>31.448276</td>\n",
       "    </tr>\n",
       "  </tbody>\n",
       "</table>\n",
       "</div>"
      ],
      "text/plain": [
       "            Temp       Wind     Solar.R      Ozone\n",
       "Month                                             \n",
       "5      65.548387  11.622581  181.296296  23.615385\n",
       "6      79.100000  10.266667  190.166667  29.444444\n",
       "7      83.903226   8.941935  216.483871  59.115385\n",
       "8      83.967742   8.793548  171.857143  59.961538\n",
       "9      76.900000  10.180000  167.433333  31.448276"
      ]
     },
     "execution_count": 25,
     "metadata": {},
     "output_type": "execute_result"
    }
   ],
   "source": [
    "#Group the dataframe by month, and calculate the average for temp, wind, ...\n",
    "averages = df.groupby('Month')['Temp', 'Wind', 'Solar.R','Ozone'].mean()\n",
    "averages"
   ]
  },
  {
   "cell_type": "markdown",
   "id": "2171cbe2",
   "metadata": {
    "papermill": {
     "duration": 0.0127,
     "end_time": "2023-06-05T15:03:35.076197",
     "exception": false,
     "start_time": "2023-06-05T15:03:35.063497",
     "status": "completed"
    },
    "tags": []
   },
   "source": [
    "12. What values did you obtain regarding ozone and solar radiation attributes? Why? Make the necessary change so that you get the average of the registered values."
   ]
  },
  {
   "cell_type": "code",
   "execution_count": 26,
   "id": "8d3a0bcc",
   "metadata": {
    "execution": {
     "iopub.execute_input": "2023-06-05T15:03:35.103132Z",
     "iopub.status.busy": "2023-06-05T15:03:35.102686Z",
     "iopub.status.idle": "2023-06-05T15:03:35.112061Z",
     "shell.execute_reply": "2023-06-05T15:03:35.110920Z"
    },
    "papermill": {
     "duration": 0.025615,
     "end_time": "2023-06-05T15:03:35.114025",
     "exception": false,
     "start_time": "2023-06-05T15:03:35.088410",
     "status": "completed"
    },
    "tags": []
   },
   "outputs": [
    {
     "data": {
      "text/plain": [
       "Temp        77.883871\n",
       "Wind         9.960946\n",
       "Solar.R    185.447462\n",
       "Ozone       40.717006\n",
       "dtype: float64"
      ]
     },
     "execution_count": 26,
     "metadata": {},
     "output_type": "execute_result"
    }
   ],
   "source": [
    "#primedio de valores por variable\n",
    "overall_averages = averages.mean()\n",
    "overall_averages"
   ]
  }
 ],
 "metadata": {
  "kernelspec": {
   "display_name": "Python 3",
   "language": "python",
   "name": "python3"
  },
  "language_info": {
   "codemirror_mode": {
    "name": "ipython",
    "version": 3
   },
   "file_extension": ".py",
   "mimetype": "text/x-python",
   "name": "python",
   "nbconvert_exporter": "python",
   "pygments_lexer": "ipython3",
   "version": "3.10.10"
  },
  "papermill": {
   "default_parameters": {},
   "duration": 15.951393,
   "end_time": "2023-06-05T15:03:36.151118",
   "environment_variables": {},
   "exception": null,
   "input_path": "__notebook__.ipynb",
   "output_path": "__notebook__.ipynb",
   "parameters": {},
   "start_time": "2023-06-05T15:03:20.199725",
   "version": "2.4.0"
  }
 },
 "nbformat": 4,
 "nbformat_minor": 5
}
