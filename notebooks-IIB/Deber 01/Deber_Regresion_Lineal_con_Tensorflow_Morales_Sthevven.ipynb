{
  "nbformat": 4,
  "nbformat_minor": 0,
  "metadata": {
    "colab": {
      "provenance": []
    },
    "kernelspec": {
      "name": "python3",
      "display_name": "Python 3"
    },
    "language_info": {
      "name": "python"
    }
  },
  "cells": [
    {
      "cell_type": "markdown",
      "source": [
        " # **7 Linear Regression with TensorFlow using the California Housing Dataset**\n",
        "The goal of this exercise is to implement a linear regression model using TensorFlow to predict house prices based on the California Housing Dataset. The dataset contains various features such as average income, housing average age, and more. Your task is to build a linear regression model and evaluate its performance."
      ],
      "metadata": {
        "id": "seWfmrGBhzz2"
      }
    },
    {
      "cell_type": "markdown",
      "source": [
        "1. Import the required libraries:\n",
        "\n",
        "> Bloque con sangría\n",
        "\n"
      ],
      "metadata": {
        "id": "PYgnn4x6lEDZ"
      }
    },
    {
      "cell_type": "code",
      "source": [
        "#importamos la libreria de tensoflow, pandas y sklearn para la dataset\n",
        "import tensorflow as tf\n",
        "import pandas as pd\n",
        "from sklearn.datasets import fetch_california_housing\n",
        "from sklearn.model_selection import train_test_split\n",
        "from sklearn.preprocessing import StandardScaler\n",
        "import tensorflow.compat.v1 as tf\n",
        "\n",
        "tf.disable_v2_behavior()"
      ],
      "metadata": {
        "id": "akCQqsxulDRh",
        "colab": {
          "base_uri": "https://localhost:8080/"
        },
        "outputId": "e5cd80d2-133f-4c24-c007-6d4468ecc917"
      },
      "execution_count": 1,
      "outputs": [
        {
          "output_type": "stream",
          "name": "stderr",
          "text": [
            "WARNING:tensorflow:From /usr/local/lib/python3.10/dist-packages/tensorflow/python/compat/v2_compat.py:107: disable_resource_variables (from tensorflow.python.ops.variable_scope) is deprecated and will be removed in a future version.\n",
            "Instructions for updating:\n",
            "non-resource variables are not supported in the long term\n"
          ]
        }
      ]
    },
    {
      "cell_type": "markdown",
      "source": [
        "2. Load the California Housing Dataset"
      ],
      "metadata": {
        "id": "Uhhd6Iyclcqw"
      }
    },
    {
      "cell_type": "code",
      "execution_count": 2,
      "metadata": {
        "colab": {
          "base_uri": "https://localhost:8080/",
          "height": 424
        },
        "id": "oAAWbR4PhyHl",
        "outputId": "1f7c5caa-32f9-431a-9978-115b781e3560"
      },
      "outputs": [
        {
          "output_type": "execute_result",
          "data": {
            "text/plain": [
              "       MedInc  HouseAge  AveRooms  AveBedrms  Population  AveOccup  Latitude  \\\n",
              "0      8.3252      41.0  6.984127   1.023810       322.0  2.555556     37.88   \n",
              "1      8.3014      21.0  6.238137   0.971880      2401.0  2.109842     37.86   \n",
              "2      7.2574      52.0  8.288136   1.073446       496.0  2.802260     37.85   \n",
              "3      5.6431      52.0  5.817352   1.073059       558.0  2.547945     37.85   \n",
              "4      3.8462      52.0  6.281853   1.081081       565.0  2.181467     37.85   \n",
              "...       ...       ...       ...        ...         ...       ...       ...   \n",
              "20635  1.5603      25.0  5.045455   1.133333       845.0  2.560606     39.48   \n",
              "20636  2.5568      18.0  6.114035   1.315789       356.0  3.122807     39.49   \n",
              "20637  1.7000      17.0  5.205543   1.120092      1007.0  2.325635     39.43   \n",
              "20638  1.8672      18.0  5.329513   1.171920       741.0  2.123209     39.43   \n",
              "20639  2.3886      16.0  5.254717   1.162264      1387.0  2.616981     39.37   \n",
              "\n",
              "       Longitude  \n",
              "0        -122.23  \n",
              "1        -122.22  \n",
              "2        -122.24  \n",
              "3        -122.25  \n",
              "4        -122.25  \n",
              "...          ...  \n",
              "20635    -121.09  \n",
              "20636    -121.21  \n",
              "20637    -121.22  \n",
              "20638    -121.32  \n",
              "20639    -121.24  \n",
              "\n",
              "[20640 rows x 8 columns]"
            ],
            "text/html": [
              "\n",
              "\n",
              "  <div id=\"df-c4dd128d-be90-4f0a-976a-2902282e4aa6\">\n",
              "    <div class=\"colab-df-container\">\n",
              "      <div>\n",
              "<style scoped>\n",
              "    .dataframe tbody tr th:only-of-type {\n",
              "        vertical-align: middle;\n",
              "    }\n",
              "\n",
              "    .dataframe tbody tr th {\n",
              "        vertical-align: top;\n",
              "    }\n",
              "\n",
              "    .dataframe thead th {\n",
              "        text-align: right;\n",
              "    }\n",
              "</style>\n",
              "<table border=\"1\" class=\"dataframe\">\n",
              "  <thead>\n",
              "    <tr style=\"text-align: right;\">\n",
              "      <th></th>\n",
              "      <th>MedInc</th>\n",
              "      <th>HouseAge</th>\n",
              "      <th>AveRooms</th>\n",
              "      <th>AveBedrms</th>\n",
              "      <th>Population</th>\n",
              "      <th>AveOccup</th>\n",
              "      <th>Latitude</th>\n",
              "      <th>Longitude</th>\n",
              "    </tr>\n",
              "  </thead>\n",
              "  <tbody>\n",
              "    <tr>\n",
              "      <th>0</th>\n",
              "      <td>8.3252</td>\n",
              "      <td>41.0</td>\n",
              "      <td>6.984127</td>\n",
              "      <td>1.023810</td>\n",
              "      <td>322.0</td>\n",
              "      <td>2.555556</td>\n",
              "      <td>37.88</td>\n",
              "      <td>-122.23</td>\n",
              "    </tr>\n",
              "    <tr>\n",
              "      <th>1</th>\n",
              "      <td>8.3014</td>\n",
              "      <td>21.0</td>\n",
              "      <td>6.238137</td>\n",
              "      <td>0.971880</td>\n",
              "      <td>2401.0</td>\n",
              "      <td>2.109842</td>\n",
              "      <td>37.86</td>\n",
              "      <td>-122.22</td>\n",
              "    </tr>\n",
              "    <tr>\n",
              "      <th>2</th>\n",
              "      <td>7.2574</td>\n",
              "      <td>52.0</td>\n",
              "      <td>8.288136</td>\n",
              "      <td>1.073446</td>\n",
              "      <td>496.0</td>\n",
              "      <td>2.802260</td>\n",
              "      <td>37.85</td>\n",
              "      <td>-122.24</td>\n",
              "    </tr>\n",
              "    <tr>\n",
              "      <th>3</th>\n",
              "      <td>5.6431</td>\n",
              "      <td>52.0</td>\n",
              "      <td>5.817352</td>\n",
              "      <td>1.073059</td>\n",
              "      <td>558.0</td>\n",
              "      <td>2.547945</td>\n",
              "      <td>37.85</td>\n",
              "      <td>-122.25</td>\n",
              "    </tr>\n",
              "    <tr>\n",
              "      <th>4</th>\n",
              "      <td>3.8462</td>\n",
              "      <td>52.0</td>\n",
              "      <td>6.281853</td>\n",
              "      <td>1.081081</td>\n",
              "      <td>565.0</td>\n",
              "      <td>2.181467</td>\n",
              "      <td>37.85</td>\n",
              "      <td>-122.25</td>\n",
              "    </tr>\n",
              "    <tr>\n",
              "      <th>...</th>\n",
              "      <td>...</td>\n",
              "      <td>...</td>\n",
              "      <td>...</td>\n",
              "      <td>...</td>\n",
              "      <td>...</td>\n",
              "      <td>...</td>\n",
              "      <td>...</td>\n",
              "      <td>...</td>\n",
              "    </tr>\n",
              "    <tr>\n",
              "      <th>20635</th>\n",
              "      <td>1.5603</td>\n",
              "      <td>25.0</td>\n",
              "      <td>5.045455</td>\n",
              "      <td>1.133333</td>\n",
              "      <td>845.0</td>\n",
              "      <td>2.560606</td>\n",
              "      <td>39.48</td>\n",
              "      <td>-121.09</td>\n",
              "    </tr>\n",
              "    <tr>\n",
              "      <th>20636</th>\n",
              "      <td>2.5568</td>\n",
              "      <td>18.0</td>\n",
              "      <td>6.114035</td>\n",
              "      <td>1.315789</td>\n",
              "      <td>356.0</td>\n",
              "      <td>3.122807</td>\n",
              "      <td>39.49</td>\n",
              "      <td>-121.21</td>\n",
              "    </tr>\n",
              "    <tr>\n",
              "      <th>20637</th>\n",
              "      <td>1.7000</td>\n",
              "      <td>17.0</td>\n",
              "      <td>5.205543</td>\n",
              "      <td>1.120092</td>\n",
              "      <td>1007.0</td>\n",
              "      <td>2.325635</td>\n",
              "      <td>39.43</td>\n",
              "      <td>-121.22</td>\n",
              "    </tr>\n",
              "    <tr>\n",
              "      <th>20638</th>\n",
              "      <td>1.8672</td>\n",
              "      <td>18.0</td>\n",
              "      <td>5.329513</td>\n",
              "      <td>1.171920</td>\n",
              "      <td>741.0</td>\n",
              "      <td>2.123209</td>\n",
              "      <td>39.43</td>\n",
              "      <td>-121.32</td>\n",
              "    </tr>\n",
              "    <tr>\n",
              "      <th>20639</th>\n",
              "      <td>2.3886</td>\n",
              "      <td>16.0</td>\n",
              "      <td>5.254717</td>\n",
              "      <td>1.162264</td>\n",
              "      <td>1387.0</td>\n",
              "      <td>2.616981</td>\n",
              "      <td>39.37</td>\n",
              "      <td>-121.24</td>\n",
              "    </tr>\n",
              "  </tbody>\n",
              "</table>\n",
              "<p>20640 rows × 8 columns</p>\n",
              "</div>\n",
              "      <button class=\"colab-df-convert\" onclick=\"convertToInteractive('df-c4dd128d-be90-4f0a-976a-2902282e4aa6')\"\n",
              "              title=\"Convert this dataframe to an interactive table.\"\n",
              "              style=\"display:none;\">\n",
              "\n",
              "  <svg xmlns=\"http://www.w3.org/2000/svg\" height=\"24px\"viewBox=\"0 0 24 24\"\n",
              "       width=\"24px\">\n",
              "    <path d=\"M0 0h24v24H0V0z\" fill=\"none\"/>\n",
              "    <path d=\"M18.56 5.44l.94 2.06.94-2.06 2.06-.94-2.06-.94-.94-2.06-.94 2.06-2.06.94zm-11 1L8.5 8.5l.94-2.06 2.06-.94-2.06-.94L8.5 2.5l-.94 2.06-2.06.94zm10 10l.94 2.06.94-2.06 2.06-.94-2.06-.94-.94-2.06-.94 2.06-2.06.94z\"/><path d=\"M17.41 7.96l-1.37-1.37c-.4-.4-.92-.59-1.43-.59-.52 0-1.04.2-1.43.59L10.3 9.45l-7.72 7.72c-.78.78-.78 2.05 0 2.83L4 21.41c.39.39.9.59 1.41.59.51 0 1.02-.2 1.41-.59l7.78-7.78 2.81-2.81c.8-.78.8-2.07 0-2.86zM5.41 20L4 18.59l7.72-7.72 1.47 1.35L5.41 20z\"/>\n",
              "  </svg>\n",
              "      </button>\n",
              "\n",
              "\n",
              "\n",
              "    <div id=\"df-f76b4994-8a06-4921-a4d0-fbdb76c0d09c\">\n",
              "      <button class=\"colab-df-quickchart\" onclick=\"quickchart('df-f76b4994-8a06-4921-a4d0-fbdb76c0d09c')\"\n",
              "              title=\"Suggest charts.\"\n",
              "              style=\"display:none;\">\n",
              "\n",
              "<svg xmlns=\"http://www.w3.org/2000/svg\" height=\"24px\"viewBox=\"0 0 24 24\"\n",
              "     width=\"24px\">\n",
              "    <g>\n",
              "        <path d=\"M19 3H5c-1.1 0-2 .9-2 2v14c0 1.1.9 2 2 2h14c1.1 0 2-.9 2-2V5c0-1.1-.9-2-2-2zM9 17H7v-7h2v7zm4 0h-2V7h2v10zm4 0h-2v-4h2v4z\"/>\n",
              "    </g>\n",
              "</svg>\n",
              "      </button>\n",
              "    </div>\n",
              "\n",
              "<style>\n",
              "  .colab-df-quickchart {\n",
              "    background-color: #E8F0FE;\n",
              "    border: none;\n",
              "    border-radius: 50%;\n",
              "    cursor: pointer;\n",
              "    display: none;\n",
              "    fill: #1967D2;\n",
              "    height: 32px;\n",
              "    padding: 0 0 0 0;\n",
              "    width: 32px;\n",
              "  }\n",
              "\n",
              "  .colab-df-quickchart:hover {\n",
              "    background-color: #E2EBFA;\n",
              "    box-shadow: 0px 1px 2px rgba(60, 64, 67, 0.3), 0px 1px 3px 1px rgba(60, 64, 67, 0.15);\n",
              "    fill: #174EA6;\n",
              "  }\n",
              "\n",
              "  [theme=dark] .colab-df-quickchart {\n",
              "    background-color: #3B4455;\n",
              "    fill: #D2E3FC;\n",
              "  }\n",
              "\n",
              "  [theme=dark] .colab-df-quickchart:hover {\n",
              "    background-color: #434B5C;\n",
              "    box-shadow: 0px 1px 3px 1px rgba(0, 0, 0, 0.15);\n",
              "    filter: drop-shadow(0px 1px 2px rgba(0, 0, 0, 0.3));\n",
              "    fill: #FFFFFF;\n",
              "  }\n",
              "</style>\n",
              "\n",
              "    <script>\n",
              "      async function quickchart(key) {\n",
              "        const containerElement = document.querySelector('#' + key);\n",
              "        const charts = await google.colab.kernel.invokeFunction(\n",
              "            'suggestCharts', [key], {});\n",
              "      }\n",
              "    </script>\n",
              "\n",
              "      <script>\n",
              "\n",
              "function displayQuickchartButton(domScope) {\n",
              "  let quickchartButtonEl =\n",
              "    domScope.querySelector('#df-f76b4994-8a06-4921-a4d0-fbdb76c0d09c button.colab-df-quickchart');\n",
              "  quickchartButtonEl.style.display =\n",
              "    google.colab.kernel.accessAllowed ? 'block' : 'none';\n",
              "}\n",
              "\n",
              "        displayQuickchartButton(document);\n",
              "      </script>\n",
              "      <style>\n",
              "    .colab-df-container {\n",
              "      display:flex;\n",
              "      flex-wrap:wrap;\n",
              "      gap: 12px;\n",
              "    }\n",
              "\n",
              "    .colab-df-convert {\n",
              "      background-color: #E8F0FE;\n",
              "      border: none;\n",
              "      border-radius: 50%;\n",
              "      cursor: pointer;\n",
              "      display: none;\n",
              "      fill: #1967D2;\n",
              "      height: 32px;\n",
              "      padding: 0 0 0 0;\n",
              "      width: 32px;\n",
              "    }\n",
              "\n",
              "    .colab-df-convert:hover {\n",
              "      background-color: #E2EBFA;\n",
              "      box-shadow: 0px 1px 2px rgba(60, 64, 67, 0.3), 0px 1px 3px 1px rgba(60, 64, 67, 0.15);\n",
              "      fill: #174EA6;\n",
              "    }\n",
              "\n",
              "    [theme=dark] .colab-df-convert {\n",
              "      background-color: #3B4455;\n",
              "      fill: #D2E3FC;\n",
              "    }\n",
              "\n",
              "    [theme=dark] .colab-df-convert:hover {\n",
              "      background-color: #434B5C;\n",
              "      box-shadow: 0px 1px 3px 1px rgba(0, 0, 0, 0.15);\n",
              "      filter: drop-shadow(0px 1px 2px rgba(0, 0, 0, 0.3));\n",
              "      fill: #FFFFFF;\n",
              "    }\n",
              "  </style>\n",
              "\n",
              "      <script>\n",
              "        const buttonEl =\n",
              "          document.querySelector('#df-c4dd128d-be90-4f0a-976a-2902282e4aa6 button.colab-df-convert');\n",
              "        buttonEl.style.display =\n",
              "          google.colab.kernel.accessAllowed ? 'block' : 'none';\n",
              "\n",
              "        async function convertToInteractive(key) {\n",
              "          const element = document.querySelector('#df-c4dd128d-be90-4f0a-976a-2902282e4aa6');\n",
              "          const dataTable =\n",
              "            await google.colab.kernel.invokeFunction('convertToInteractive',\n",
              "                                                     [key], {});\n",
              "          if (!dataTable) return;\n",
              "\n",
              "          const docLinkHtml = 'Like what you see? Visit the ' +\n",
              "            '<a target=\"_blank\" href=https://colab.research.google.com/notebooks/data_table.ipynb>data table notebook</a>'\n",
              "            + ' to learn more about interactive tables.';\n",
              "          element.innerHTML = '';\n",
              "          dataTable['output_type'] = 'display_data';\n",
              "          await google.colab.output.renderOutput(dataTable, element);\n",
              "          const docLink = document.createElement('div');\n",
              "          docLink.innerHTML = docLinkHtml;\n",
              "          element.appendChild(docLink);\n",
              "        }\n",
              "      </script>\n",
              "    </div>\n",
              "  </div>\n"
            ]
          },
          "metadata": {},
          "execution_count": 2
        }
      ],
      "source": [
        "#cargamos nuestra dataset california housing\n",
        "raw = fetch_california_housing()\n",
        "#separamos en X donde se almacena las variables las cuales nos van a servir para el entrenamiento\n",
        "X = pd.DataFrame(data=raw['data'], columns=raw['feature_names'])\n",
        "X\n",
        "\n"
      ]
    },
    {
      "cell_type": "code",
      "source": [
        "# mientras la y es nuestra variable a predecir\n",
        "y = pd.Series(raw['target'])\n",
        "y"
      ],
      "metadata": {
        "colab": {
          "base_uri": "https://localhost:8080/"
        },
        "id": "RLFFRk_meneD",
        "outputId": "ae55d288-b3d4-4768-986f-938151b6384d"
      },
      "execution_count": 3,
      "outputs": [
        {
          "output_type": "execute_result",
          "data": {
            "text/plain": [
              "0        4.526\n",
              "1        3.585\n",
              "2        3.521\n",
              "3        3.413\n",
              "4        3.422\n",
              "         ...  \n",
              "20635    0.781\n",
              "20636    0.771\n",
              "20637    0.923\n",
              "20638    0.847\n",
              "20639    0.894\n",
              "Length: 20640, dtype: float64"
            ]
          },
          "metadata": {},
          "execution_count": 3
        }
      ]
    },
    {
      "cell_type": "markdown",
      "source": [
        "**Preprocess the data**"
      ],
      "metadata": {
        "id": "0lzmuMMBpJNp"
      }
    },
    {
      "cell_type": "markdown",
      "source": [
        "3. Normalize the features using the mean and standard deviation."
      ],
      "metadata": {
        "id": "CpAqb6wspOg_"
      }
    },
    {
      "cell_type": "code",
      "source": [
        "# se utilizará para normalizar las características utilizando la media y la desviación estándar.\n",
        "scaler = StandardScaler()\n",
        "# Aplicamos el método fit_transform del escalador a la matriz de características X para normalizar las características y almacenar las características normalizadas en X_scaled\n",
        "X_scaled = scaler.fit_transform(X)\n",
        "X_scaled"
      ],
      "metadata": {
        "id": "gdswfsAzpYgU",
        "colab": {
          "base_uri": "https://localhost:8080/"
        },
        "outputId": "2355387f-04b2-4972-9f6c-7cab8f888144"
      },
      "execution_count": 4,
      "outputs": [
        {
          "output_type": "execute_result",
          "data": {
            "text/plain": [
              "array([[ 2.34476576,  0.98214266,  0.62855945, ..., -0.04959654,\n",
              "         1.05254828, -1.32783522],\n",
              "       [ 2.33223796, -0.60701891,  0.32704136, ..., -0.09251223,\n",
              "         1.04318455, -1.32284391],\n",
              "       [ 1.7826994 ,  1.85618152,  1.15562047, ..., -0.02584253,\n",
              "         1.03850269, -1.33282653],\n",
              "       ...,\n",
              "       [-1.14259331, -0.92485123, -0.09031802, ..., -0.0717345 ,\n",
              "         1.77823747, -0.8237132 ],\n",
              "       [-1.05458292, -0.84539315, -0.04021111, ..., -0.09122515,\n",
              "         1.77823747, -0.87362627],\n",
              "       [-0.78012947, -1.00430931, -0.07044252, ..., -0.04368215,\n",
              "         1.75014627, -0.83369581]])"
            ]
          },
          "metadata": {},
          "execution_count": 4
        }
      ]
    },
    {
      "cell_type": "markdown",
      "source": [
        "4. Split the dataset into training and testing sets (e.g., 80% for training, 20% for testing)."
      ],
      "metadata": {
        "id": "lE0VbPXwpUoM"
      }
    },
    {
      "cell_type": "code",
      "source": [
        "# Dividir el conjunto de datos en conjuntos de entrenamiento y prueba\n",
        "X_train, X_test, y_train, y_test = train_test_split(X_scaled, y, test_size=0.2, random_state=42)"
      ],
      "metadata": {
        "id": "yThBNeuDoEvB"
      },
      "execution_count": 5,
      "outputs": []
    },
    {
      "cell_type": "code",
      "source": [
        "X_train"
      ],
      "metadata": {
        "colab": {
          "base_uri": "https://localhost:8080/"
        },
        "id": "xRZsdqQNe8LY",
        "outputId": "025ccefc-70c7-402a-8731-5a3035c6ae9b"
      },
      "execution_count": 6,
      "outputs": [
        {
          "output_type": "execute_result",
          "data": {
            "text/plain": [
              "array([[-0.32165429,  0.34647803, -0.16625886, ...,  0.05980847,\n",
              "        -1.36797628,  1.26764451],\n",
              "       [-0.03061993,  1.61780729, -0.3861807 , ..., -0.12830597,\n",
              "        -0.87169852,  0.7036268 ],\n",
              "       [ 0.1503488 , -1.95780625,  0.08764093, ..., -0.03345346,\n",
              "        -0.45501247, -0.45435647],\n",
              "       ...,\n",
              "       [-0.49283239,  0.58485227, -0.58294927, ...,  0.02517025,\n",
              "        -0.74997001,  0.59381804],\n",
              "       [ 0.97302487, -1.08376738,  0.39058403, ...,  0.01042151,\n",
              "         0.91209231, -1.19306993],\n",
              "       [-0.68174943,  1.85618152, -0.81905034, ..., -0.09262259,\n",
              "         1.00104776, -1.42267006]])"
            ]
          },
          "metadata": {},
          "execution_count": 6
        }
      ]
    },
    {
      "cell_type": "code",
      "source": [
        "y_test"
      ],
      "metadata": {
        "colab": {
          "base_uri": "https://localhost:8080/"
        },
        "id": "9FRg8hAMe_Ii",
        "outputId": "f384ddea-a497-466f-a7bb-bfb77e1e82c2"
      },
      "execution_count": 7,
      "outputs": [
        {
          "output_type": "execute_result",
          "data": {
            "text/plain": [
              "20046    0.47700\n",
              "3024     0.45800\n",
              "15663    5.00001\n",
              "20484    2.18600\n",
              "9814     2.78000\n",
              "          ...   \n",
              "15362    2.63300\n",
              "16623    2.66800\n",
              "18086    5.00001\n",
              "2144     0.72300\n",
              "3665     1.51500\n",
              "Length: 4128, dtype: float64"
            ]
          },
          "metadata": {},
          "execution_count": 7
        }
      ]
    },
    {
      "cell_type": "markdown",
      "source": [
        "**Define the TensorFlow graph**"
      ],
      "metadata": {
        "id": "-PcMfNr293I3"
      }
    },
    {
      "cell_type": "markdown",
      "source": [
        "**1. Create placeholders for the input features (X) and target variable (y).**\n"
      ],
      "metadata": {
        "id": "FYDSVKFCOoVP"
      }
    },
    {
      "cell_type": "code",
      "source": [
        "#Creamos los placeholders para X y y\n",
        "nf=X_train.shape[1]\n",
        "X_placeholder = tf.placeholder(shape=(None, nf), dtype=tf.float32)\n",
        "y_placeholder = tf.placeholder(shape=(None), dtype=tf.float32)"
      ],
      "metadata": {
        "id": "_wm651cNfTKc"
      },
      "execution_count": 8,
      "outputs": []
    },
    {
      "cell_type": "code",
      "source": [
        "X_placeholder"
      ],
      "metadata": {
        "colab": {
          "base_uri": "https://localhost:8080/"
        },
        "id": "rxvHxsbYiVA9",
        "outputId": "2f2a5254-a991-4a52-9721-5ea8a1734048"
      },
      "execution_count": 9,
      "outputs": [
        {
          "output_type": "execute_result",
          "data": {
            "text/plain": [
              "<tf.Tensor 'Placeholder:0' shape=(?, 8) dtype=float32>"
            ]
          },
          "metadata": {},
          "execution_count": 9
        }
      ]
    },
    {
      "cell_type": "code",
      "source": [
        "y_placeholder"
      ],
      "metadata": {
        "colab": {
          "base_uri": "https://localhost:8080/"
        },
        "id": "1LCMuyFsiZBN",
        "outputId": "7d283ea2-daa6-482c-c2bc-72ba18c9f2bd"
      },
      "execution_count": 10,
      "outputs": [
        {
          "output_type": "execute_result",
          "data": {
            "text/plain": [
              "<tf.Tensor 'Placeholder_1:0' shape=<unknown> dtype=float32>"
            ]
          },
          "metadata": {},
          "execution_count": 10
        }
      ]
    },
    {
      "cell_type": "markdown",
      "source": [
        "**2. Create variables for the model's weights (W) and bias (b).**"
      ],
      "metadata": {
        "id": "Fn9UtgVOfbPF"
      }
    },
    {
      "cell_type": "code",
      "source": [
        "##Creamos las variables del peso W y del bias\n",
        "W = tf.Variable(tf.random_normal(shape=(nf, 1)), name='weights')\n",
        "b = tf.Variable(tf.zeros(shape=(1,)), name='bias')"
      ],
      "metadata": {
        "id": "sVGbdqvvfel9"
      },
      "execution_count": 11,
      "outputs": []
    },
    {
      "cell_type": "code",
      "source": [
        "W"
      ],
      "metadata": {
        "colab": {
          "base_uri": "https://localhost:8080/"
        },
        "id": "eACkayq9igLp",
        "outputId": "2cc3c3c9-d693-4158-b9da-5bfe89eefed9"
      },
      "execution_count": 12,
      "outputs": [
        {
          "output_type": "execute_result",
          "data": {
            "text/plain": [
              "<tf.Variable 'weights:0' shape=(8, 1) dtype=float32_ref>"
            ]
          },
          "metadata": {},
          "execution_count": 12
        }
      ]
    },
    {
      "cell_type": "code",
      "source": [
        "b"
      ],
      "metadata": {
        "colab": {
          "base_uri": "https://localhost:8080/"
        },
        "id": "5j4Eg05wihEh",
        "outputId": "276e7edf-99b3-43e3-eb46-a12491e9f2ad"
      },
      "execution_count": 13,
      "outputs": [
        {
          "output_type": "execute_result",
          "data": {
            "text/plain": [
              "<tf.Variable 'bias:0' shape=(1,) dtype=float32_ref>"
            ]
          },
          "metadata": {},
          "execution_count": 13
        }
      ]
    },
    {
      "cell_type": "markdown",
      "source": [
        "**3. Define the linear regression model using the equation: y_pred = X * W + b**"
      ],
      "metadata": {
        "id": "W0j-bSKDfl93"
      }
    },
    {
      "cell_type": "code",
      "source": [
        "#Definimos el modelo de regresion lineal con su ecuacion\n",
        "y_pred = tf.matmul(X_placeholder, W) + b"
      ],
      "metadata": {
        "id": "t31C6ljpfomm"
      },
      "execution_count": 14,
      "outputs": []
    },
    {
      "cell_type": "code",
      "source": [
        "#imprimimos\n",
        "y_pred"
      ],
      "metadata": {
        "colab": {
          "base_uri": "https://localhost:8080/"
        },
        "id": "Xbf8mbATivnk",
        "outputId": "9d718bed-02c4-40a4-f768-ecd04e867bfb"
      },
      "execution_count": 15,
      "outputs": [
        {
          "output_type": "execute_result",
          "data": {
            "text/plain": [
              "<tf.Tensor 'add:0' shape=(?, 1) dtype=float32>"
            ]
          },
          "metadata": {},
          "execution_count": 15
        }
      ]
    },
    {
      "cell_type": "markdown",
      "source": [
        "**4. Define the loss function as the mean squared error between the predicted values and the true values.**"
      ],
      "metadata": {
        "id": "chowP5L3frc4"
      }
    },
    {
      "cell_type": "code",
      "source": [
        "# definimos la funcion de perdida\n",
        "loss = tf.reduce_mean(tf.square(y_pred - y_placeholder))"
      ],
      "metadata": {
        "id": "0IUnfsasf1kK"
      },
      "execution_count": 16,
      "outputs": []
    },
    {
      "cell_type": "code",
      "source": [
        "#imprimimos\n",
        "loss"
      ],
      "metadata": {
        "colab": {
          "base_uri": "https://localhost:8080/"
        },
        "id": "RJJ-6Pqvi2mY",
        "outputId": "6725ada3-7742-4110-d1a3-6d95b2e43f51"
      },
      "execution_count": 17,
      "outputs": [
        {
          "output_type": "execute_result",
          "data": {
            "text/plain": [
              "<tf.Tensor 'Mean:0' shape=() dtype=float32>"
            ]
          },
          "metadata": {},
          "execution_count": 17
        }
      ]
    },
    {
      "cell_type": "markdown",
      "source": [
        "**5. Choose an optimizer (e.g., Gradient Descent) to minimize the loss function.**"
      ],
      "metadata": {
        "id": "wzIjY6hBf5Qo"
      }
    },
    {
      "cell_type": "code",
      "source": [
        "#Escogemos una optimizacion para la minimizar la funcion de perdida\n",
        "optimizer = tf.train.GradientDescentOptimizer(learning_rate=0.001)\n",
        "train_op = optimizer.minimize(loss)"
      ],
      "metadata": {
        "id": "KnjwmI_sf8Q6"
      },
      "execution_count": 18,
      "outputs": []
    },
    {
      "cell_type": "code",
      "source": [
        "#imprimimos\n",
        "train_op"
      ],
      "metadata": {
        "colab": {
          "base_uri": "https://localhost:8080/"
        },
        "id": "1Su1o1n6jFo4",
        "outputId": "c93491ee-96c5-48eb-ab45-7decf63e7965"
      },
      "execution_count": 19,
      "outputs": [
        {
          "output_type": "execute_result",
          "data": {
            "text/plain": [
              "<tf.Operation 'GradientDescent' type=NoOp>"
            ]
          },
          "metadata": {},
          "execution_count": 19
        }
      ]
    },
    {
      "cell_type": "markdown",
      "source": [
        "# **Train the model**"
      ],
      "metadata": {
        "id": "8d2US-pgdVod"
      }
    },
    {
      "cell_type": "markdown",
      "source": [
        "**1. Initialize TensorFlow session.**\n",
        "\n",
        "**2. Initialize the model's variables.**\n",
        "\n",
        "**3. Set the number of training epochs and the learning rate.**\n",
        "\n",
        "**4. For each epoch, iterate through the training dataset and update the model's parameters using the optimizer.**\n",
        "\n",
        "**5. Print the training loss at regular intervals.**"
      ],
      "metadata": {
        "id": "zZC2hpTOdYOf"
      }
    },
    {
      "cell_type": "code",
      "source": [
        "#Iicializamos las epocas y el learning rate para el entrenamiento\n",
        "num_epochs = 150\n",
        "batch_size = 32\n",
        "train_loss_history = []\n",
        "val_loss_history = []\n",
        "\n",
        "#Inicializamos las variables del modelo\n",
        "init = tf.global_variables_initializer()\n",
        "#Inicializamos la sesion  de Tensorflow\n",
        "with tf.Session() as sess:\n",
        "    sess.run(init)\n",
        "    #Para cada época, iterar a través del conjunto de datos de entrenamiento y\n",
        "    #actualizar los parámetros del modelo utilizando el optimizador.\n",
        "    for epoch in range(num_epochs):\n",
        "        for i in range(0, len(X_train), batch_size):\n",
        "            X_batch = X_train[i:i+batch_size]\n",
        "            y_batch = y_train[i:i+batch_size]\n",
        "            sess.run(train_op, feed_dict={X_placeholder: X_batch, y_placeholder: y_batch})\n",
        "\n",
        "        train_loss = sess.run(loss, feed_dict={X_placeholder: X_train, y_placeholder: y_train})\n",
        "        val_loss = sess.run(loss, feed_dict={X_placeholder: X_test, y_placeholder: y_test})\n",
        "        train_loss_history.append(train_loss)\n",
        "        val_loss_history.append(val_loss)\n",
        "        #Imprimir la pérdida de entrenamiento en intervalos regulares.\n",
        "        if epoch % 1.5 == 0:\n",
        "            print(f'Epoch {epoch}: Training Loss = {train_loss:.4f}, Validation Loss = {val_loss:.4f}')\n",
        "\n",
        "    y_pred_test = sess.run(y_pred, feed_dict={X_placeholder: X_test})\n"
      ],
      "metadata": {
        "colab": {
          "base_uri": "https://localhost:8080/"
        },
        "id": "2lwUjqlxda2U",
        "outputId": "12f8ea11-9b09-4fa8-b020-0d8a9288946c"
      },
      "execution_count": 20,
      "outputs": [
        {
          "output_type": "stream",
          "name": "stdout",
          "text": [
            "Epoch 0: Training Loss = 2.0841, Validation Loss = 2.1500\n",
            "Epoch 3: Training Loss = 1.3892, Validation Loss = 1.3880\n",
            "Epoch 6: Training Loss = 1.3716, Validation Loss = 1.3607\n",
            "Epoch 9: Training Loss = 1.3613, Validation Loss = 1.3451\n",
            "Epoch 12: Training Loss = 1.3543, Validation Loss = 1.3347\n",
            "Epoch 15: Training Loss = 1.3494, Validation Loss = 1.3276\n",
            "Epoch 18: Training Loss = 1.3461, Validation Loss = 1.3228\n",
            "Epoch 21: Training Loss = 1.3437, Validation Loss = 1.3194\n",
            "Epoch 24: Training Loss = 1.3420, Validation Loss = 1.3171\n",
            "Epoch 27: Training Loss = 1.3408, Validation Loss = 1.3155\n",
            "Epoch 30: Training Loss = 1.3400, Validation Loss = 1.3143\n",
            "Epoch 33: Training Loss = 1.3394, Validation Loss = 1.3135\n",
            "Epoch 36: Training Loss = 1.3389, Validation Loss = 1.3130\n",
            "Epoch 39: Training Loss = 1.3386, Validation Loss = 1.3126\n",
            "Epoch 42: Training Loss = 1.3383, Validation Loss = 1.3123\n",
            "Epoch 45: Training Loss = 1.3382, Validation Loss = 1.3121\n",
            "Epoch 48: Training Loss = 1.3380, Validation Loss = 1.3119\n",
            "Epoch 51: Training Loss = 1.3379, Validation Loss = 1.3118\n",
            "Epoch 54: Training Loss = 1.3379, Validation Loss = 1.3117\n",
            "Epoch 57: Training Loss = 1.3378, Validation Loss = 1.3117\n",
            "Epoch 60: Training Loss = 1.3378, Validation Loss = 1.3116\n",
            "Epoch 63: Training Loss = 1.3377, Validation Loss = 1.3116\n",
            "Epoch 66: Training Loss = 1.3377, Validation Loss = 1.3116\n",
            "Epoch 69: Training Loss = 1.3377, Validation Loss = 1.3115\n",
            "Epoch 72: Training Loss = 1.3377, Validation Loss = 1.3115\n",
            "Epoch 75: Training Loss = 1.3377, Validation Loss = 1.3115\n",
            "Epoch 78: Training Loss = 1.3377, Validation Loss = 1.3115\n",
            "Epoch 81: Training Loss = 1.3377, Validation Loss = 1.3115\n",
            "Epoch 84: Training Loss = 1.3377, Validation Loss = 1.3115\n",
            "Epoch 87: Training Loss = 1.3377, Validation Loss = 1.3115\n",
            "Epoch 90: Training Loss = 1.3377, Validation Loss = 1.3115\n",
            "Epoch 93: Training Loss = 1.3377, Validation Loss = 1.3115\n",
            "Epoch 96: Training Loss = 1.3377, Validation Loss = 1.3115\n",
            "Epoch 99: Training Loss = 1.3376, Validation Loss = 1.3115\n",
            "Epoch 102: Training Loss = 1.3376, Validation Loss = 1.3115\n",
            "Epoch 105: Training Loss = 1.3376, Validation Loss = 1.3115\n",
            "Epoch 108: Training Loss = 1.3376, Validation Loss = 1.3115\n",
            "Epoch 111: Training Loss = 1.3376, Validation Loss = 1.3115\n",
            "Epoch 114: Training Loss = 1.3376, Validation Loss = 1.3115\n",
            "Epoch 117: Training Loss = 1.3376, Validation Loss = 1.3115\n",
            "Epoch 120: Training Loss = 1.3376, Validation Loss = 1.3115\n",
            "Epoch 123: Training Loss = 1.3376, Validation Loss = 1.3115\n",
            "Epoch 126: Training Loss = 1.3376, Validation Loss = 1.3115\n",
            "Epoch 129: Training Loss = 1.3376, Validation Loss = 1.3115\n",
            "Epoch 132: Training Loss = 1.3376, Validation Loss = 1.3115\n",
            "Epoch 135: Training Loss = 1.3376, Validation Loss = 1.3115\n",
            "Epoch 138: Training Loss = 1.3376, Validation Loss = 1.3115\n",
            "Epoch 141: Training Loss = 1.3376, Validation Loss = 1.3115\n",
            "Epoch 144: Training Loss = 1.3376, Validation Loss = 1.3115\n",
            "Epoch 147: Training Loss = 1.3376, Validation Loss = 1.3115\n"
          ]
        }
      ]
    },
    {
      "cell_type": "markdown",
      "source": [
        "# **Evaluate the model**"
      ],
      "metadata": {
        "id": "jCIv0TVedpxN"
      }
    },
    {
      "cell_type": "markdown",
      "source": [
        "**1. Use the trained model to make predictions on the test dataset.**\n",
        "\n"
      ],
      "metadata": {
        "id": "kGT2ArtQdr5L"
      }
    },
    {
      "cell_type": "code",
      "source": [
        "#Utiliza el modelo entrenado para hacer predicciones en el conjunto de datos de prueba.\n",
        "from tabulate import tabulate\n",
        "# Reshape the arrays to be 1-dimensional\n",
        "y_test = y_test.values.flatten()\n",
        "y_pred_test = y_pred_test.flatten()\n",
        "\n",
        "# Print the true labels and predicted labels in a table\n",
        "results_table = pd.DataFrame({'True Label': y_test[:10], 'Predicted Label': y_pred_test[:10]})\n",
        "print(tabulate(results_table, headers='keys'))"
      ],
      "metadata": {
        "colab": {
          "base_uri": "https://localhost:8080/"
        },
        "id": "SK2dZDttgU0A",
        "outputId": "56fc1d94-7b0e-4438-a65d-50535fb7a06e"
      },
      "execution_count": 21,
      "outputs": [
        {
          "output_type": "stream",
          "name": "stdout",
          "text": [
            "      True Label    Predicted Label\n",
            "--  ------------  -----------------\n",
            " 0       0.477              2.02781\n",
            " 1       0.458              2.0607\n",
            " 2       5.00001            2.0889\n",
            " 3       2.186              2.0974\n",
            " 4       2.78               2.08554\n",
            " 5       1.587              2.07199\n",
            " 6       1.982              2.08718\n",
            " 7       1.575              2.07238\n",
            " 8       3.4                2.10354\n",
            " 9       4.466              2.12572\n"
          ]
        }
      ]
    },
    {
      "cell_type": "code",
      "source": [
        "#Grafico del entrenamiento de perdidad\n",
        "import matplotlib.pyplot as plt\n",
        "\n",
        "epochs = range(0, num_epochs, 1)\n",
        "plt.plot(epochs, train_loss_history, label='Perdida  de entrenamiento')\n",
        "plt.plot(epochs, val_loss_history, label='Perdida de Validacion')\n",
        "plt.xlabel('Epoca')\n",
        "plt.ylabel('Perdida')\n",
        "plt.title('Entrenamiento y validacion de perdida sobre las epocas ')\n",
        "plt.legend()\n",
        "plt.show()\n",
        ""
      ],
      "metadata": {
        "colab": {
          "base_uri": "https://localhost:8080/",
          "height": 472
        },
        "id": "Z7Lw1KATg3Dq",
        "outputId": "6a469d24-fcb3-413c-d51c-fa65be96c12d"
      },
      "execution_count": 22,
      "outputs": [
        {
          "output_type": "display_data",
          "data": {
            "text/plain": [
              "<Figure size 640x480 with 1 Axes>"
            ],
            "image/png": "[encoded data removed]"
          },
          "metadata": {}
        }
      ]
    },
    {
      "cell_type": "markdown",
      "source": [
        "**2. Calculate the mean squared error (MSE) between the predicted and true values.**"
      ],
      "metadata": {
        "id": "-J0v1FPEge_o"
      }
    },
    {
      "cell_type": "code",
      "source": [
        "#Calcula el error cuadrático medio (MSE) entre los valores predichos y los valores verdaderos.\n",
        "from sklearn.metrics import mean_squared_error\n",
        "\n",
        "mse = mean_squared_error(y_test, y_pred_test)\n",
        ""
      ],
      "metadata": {
        "id": "hbwl-BNrgjr0"
      },
      "execution_count": 23,
      "outputs": []
    },
    {
      "cell_type": "markdown",
      "source": [
        "**3. Print the MSE as a measure of the model's performance.**"
      ],
      "metadata": {
        "id": "FKbsrDs5gmny"
      }
    },
    {
      "cell_type": "code",
      "source": [
        "#Imprimimos el MSE\n",
        "print(f'Mean Squared Error (MSE): {mse:.4f}')"
      ],
      "metadata": {
        "colab": {
          "base_uri": "https://localhost:8080/"
        },
        "id": "qhCdk4DCgvsH",
        "outputId": "4c9aa316-fd35-4ad1-d886-b1264f37c0c5"
      },
      "execution_count": 24,
      "outputs": [
        {
          "output_type": "stream",
          "name": "stdout",
          "text": [
            "Mean Squared Error (MSE): 1.2604\n"
          ]
        }
      ]
    }
  ]
}