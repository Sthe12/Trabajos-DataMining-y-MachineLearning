{
  "cells": [
    {
      "cell_type": "markdown",
      "metadata": {
        "collapsed": false,
        "id": "4sgLrUmyY1L6"
      },
      "source": [
        "# 12 Advanced Recurrent Neural Networks\n",
        "\n",
        "Advanced Neural Network architectures represent significant advancements in the field of deep learning, which are most used in the domain of sequence modeling and processing. These architectures build upon the traditional feedforward neural networks and introduce recurrent connections, allowing them to exhibit temporal dynamics and memory capabilities.\n",
        "\n",
        "* The Elman RNN employs a simple recurrent loop in its hidden layer, enabling it to capture short-term temporal dependencies, making it suitable for applications such as speech recognition and time series analysis.\n",
        "* The Jordan RNN possesses feedback connections from the output layer to the hidden layer, rendering it capable of modeling longer-term dependencies, which finds applications in machine translation and language modeling tasks.\n",
        "* The Bidirectional RNN combines both forward and backward temporal processing, allowing it to consider both past and future context in its predictions, making it effective in natural language processing tasks such as sentiment analysis and named entity recognition.\n",
        "\n",
        "These advanced neural network architectures significantly expand the modeling capabilities of traditional neural networks and have become indispensable tools in various sequential data processing applications."
      ]
    },
    {
      "cell_type": "markdown",
      "metadata": {
        "collapsed": false,
        "id": "BuTgSPxDY1Nb"
      },
      "source": [
        "### Exercise\n",
        "Use the IMDB movie reviews dataset to perform sentiment analysis with a Elman, Jordan and Bidirectional RNN.\n",
        "Highlight the differences on the performance of each architecture."
      ]
    },
    {
      "cell_type": "code",
      "execution_count": 8,
      "metadata": {
        "collapsed": true,
        "id": "TWPD7rkQY1Nc"
      },
      "outputs": [],
      "source": [
        "from keras.datasets import imdb\n",
        "from keras.preprocessing import sequence\n",
        "from keras.models import Sequential\n",
        "from keras.layers import Embedding, SimpleRNN, Dense, Bidirectional\n",
        "import tensorflow as tf\n",
        "from tensorflow import keras"
      ]
    },
    {
      "cell_type": "markdown",
      "metadata": {
        "collapsed": false,
        "id": "TXw8KghoY1No"
      },
      "source": [
        "1. Load the IMDB movie reviews dataset"
      ]
    },
    {
      "cell_type": "code",
      "execution_count": 9,
      "metadata": {
        "id": "XHPBHmhCY1Np"
      },
      "outputs": [],
      "source": [
        "max_features = 5000  # Number of words to consider as features\n",
        "max_len_short = 100  # Maximum sequence length for short sequences\n",
        "max_len_long = 500   # Maximum sequence length for long sequences\n",
        "\n",
        "(x_train, y_train), (x_test, y_test) = imdb.load_data(num_words=max_features)"
      ]
    },
    {
      "cell_type": "markdown",
      "metadata": {
        "collapsed": false,
        "id": "f33w8F9DY1Nt"
      },
      "source": [
        "2. Pad sequences to a fixed length for RNN input"
      ]
    },
    {
      "cell_type": "code",
      "execution_count": 10,
      "metadata": {
        "id": "kDRMkA2GY1Nv"
      },
      "outputs": [],
      "source": [
        "x_train_short = keras.preprocessing.sequence.pad_sequences(x_train, maxlen=max_len_short)\n",
        "x_test_short = keras.preprocessing.sequence.pad_sequences(x_test, maxlen=max_len_short)\n",
        "\n",
        "x_train_long = keras.preprocessing.sequence.pad_sequences(x_train, maxlen=max_len_long)\n",
        "x_test_long = keras.preprocessing.sequence.pad_sequences(x_test, maxlen=max_len_long)"
      ]
    },
    {
      "cell_type": "markdown",
      "metadata": {
        "collapsed": false,
        "id": "QnEw1iwkY1N1"
      },
      "source": [
        "3. Build the distinct RNN models"
      ]
    },
    {
      "cell_type": "code",
      "execution_count": 14,
      "metadata": {
        "id": "5sGbFV_xY1N2"
      },
      "outputs": [],
      "source": [
        "from keras.layers.pooling.global_max_pooling1d import GlobalMaxPooling1D\n",
        "GlobalMaxPooling1D\n",
        "def build_elman_rnn_model():\n",
        "    model = Sequential()\n",
        "    model.add(Embedding(max_features, 32))\n",
        "    model.add(SimpleRNN(32, activation='relu'))\n",
        "    model.add(Dense(1, activation='sigmoid'))\n",
        "    return model\n",
        "\n",
        "def build_jordan_rnn_model():\n",
        "    model = Sequential()\n",
        "    model.add(Embedding(max_features, 32))\n",
        "    model.add(SimpleRNN(32, activation='relu', return_sequences=True))\n",
        "    model.add(GlobalMaxPooling1D()) #nos ayuda a reducir y adecuar la salida para la ultima capa, ya que si no se aumenta esta linea de codigo el modelo nos da otra dimension y nos da error en el entrenamiento.\n",
        "    model.add(Dense(1, activation='sigmoid'))\n",
        "    return model\n",
        "\n",
        "def build_bidirectional_rnn_model():\n",
        "    model = Sequential()\n",
        "    model.add(Embedding(max_features, 32))\n",
        "    model.add(Bidirectional(SimpleRNN(32, activation='relu')))\n",
        "    model.add(Dense(1, activation='sigmoid'))\n",
        "    return model"
      ]
    },
    {
      "cell_type": "markdown",
      "metadata": {
        "collapsed": false,
        "id": "bbipaNweY1N5"
      },
      "source": [
        "4. Train and evaluate the RNN model"
      ]
    },
    {
      "cell_type": "code",
      "execution_count": 15,
      "metadata": {
        "id": "UIV98vIKY1N8"
      },
      "outputs": [],
      "source": [
        "def train_and_evaluate_model(model, x_train, y_train, x_test, y_test):\n",
        "    model.compile(optimizer='adam', loss='binary_crossentropy', metrics=['accuracy'])\n",
        "    history = model.fit(x_train, y_train, epochs=5, batch_size=128, validation_split=0.2)\n",
        "    loss, accuracy = model.evaluate(x_test, y_test)\n",
        "    return loss, accuracy, history"
      ]
    },
    {
      "cell_type": "markdown",
      "metadata": {
        "collapsed": false,
        "id": "bfHUyUMoY1OA"
      },
      "source": [
        "5. Train and evaluate the RNN model on short sequences"
      ]
    },
    {
      "cell_type": "code",
      "execution_count": 16,
      "metadata": {
        "colab": {
          "base_uri": "https://localhost:8080/"
        },
        "id": "O1VTJEpvY1OD",
        "outputId": "6fb90b8f-d324-46cc-8567-37f013ec2662"
      },
      "outputs": [
        {
          "output_type": "stream",
          "name": "stdout",
          "text": [
            "\n",
            "Training RNN Elman model on short sequences:\n",
            "Epoch 1/5\n",
            "157/157 [==============================] - 5s 26ms/step - loss: 0.6110 - accuracy: 0.6683 - val_loss: 0.4779 - val_accuracy: 0.7782\n",
            "Epoch 2/5\n",
            "157/157 [==============================] - 3s 22ms/step - loss: 0.3648 - accuracy: 0.8407 - val_loss: 0.3685 - val_accuracy: 0.8354\n",
            "Epoch 3/5\n",
            "157/157 [==============================] - 4s 26ms/step - loss: 0.2844 - accuracy: 0.8816 - val_loss: 0.4120 - val_accuracy: 0.8356\n",
            "Epoch 4/5\n",
            "157/157 [==============================] - 3s 22ms/step - loss: 0.2500 - accuracy: 0.8992 - val_loss: 0.3627 - val_accuracy: 0.8418\n",
            "Epoch 5/5\n",
            "157/157 [==============================] - 3s 22ms/step - loss: 0.2113 - accuracy: 0.9179 - val_loss: 0.3661 - val_accuracy: 0.8398\n",
            "782/782 [==============================] - 4s 5ms/step - loss: 0.3622 - accuracy: 0.8424\n",
            "\n",
            "Training RNN Jordan model on short sequences:\n",
            "Epoch 1/5\n",
            "157/157 [==============================] - 5s 26ms/step - loss: 0.5970 - accuracy: 0.7016 - val_loss: 0.4251 - val_accuracy: 0.8038\n",
            "Epoch 2/5\n",
            "157/157 [==============================] - 5s 30ms/step - loss: 0.3632 - accuracy: 0.8431 - val_loss: 0.3611 - val_accuracy: 0.8352\n",
            "Epoch 3/5\n",
            "157/157 [==============================] - 4s 25ms/step - loss: 0.2793 - accuracy: 0.8854 - val_loss: 0.3535 - val_accuracy: 0.8380\n",
            "Epoch 4/5\n",
            "157/157 [==============================] - 4s 25ms/step - loss: 0.2317 - accuracy: 0.9094 - val_loss: 0.3780 - val_accuracy: 0.8300\n",
            "Epoch 5/5\n",
            "157/157 [==============================] - 5s 30ms/step - loss: 0.1896 - accuracy: 0.9298 - val_loss: 0.4286 - val_accuracy: 0.8266\n",
            "782/782 [==============================] - 3s 4ms/step - loss: 0.4381 - accuracy: 0.8231\n",
            "\n",
            "Training RNN Bidirectional model on short sequences:\n",
            "Epoch 1/5\n",
            "157/157 [==============================] - 8s 42ms/step - loss: 0.5860 - accuracy: 0.6692 - val_loss: 0.4507 - val_accuracy: 0.7976\n",
            "Epoch 2/5\n",
            "157/157 [==============================] - 5s 35ms/step - loss: 0.3409 - accuracy: 0.8539 - val_loss: 0.3502 - val_accuracy: 0.8404\n",
            "Epoch 3/5\n",
            "157/157 [==============================] - 6s 40ms/step - loss: 0.2661 - accuracy: 0.8913 - val_loss: 0.3436 - val_accuracy: 0.8478\n",
            "Epoch 4/5\n",
            "157/157 [==============================] - 5s 35ms/step - loss: 0.2323 - accuracy: 0.9074 - val_loss: 0.3962 - val_accuracy: 0.8462\n",
            "Epoch 5/5\n",
            "157/157 [==============================] - 6s 40ms/step - loss: 0.2000 - accuracy: 0.9232 - val_loss: 0.4048 - val_accuracy: 0.8342\n",
            "782/782 [==============================] - 5s 6ms/step - loss: 0.3980 - accuracy: 0.8371\n"
          ]
        }
      ],
      "source": [
        "print(\"\\nTraining RNN Elman model on short sequences:\")\n",
        "rnn_model_short_elman = build_elman_rnn_model()\n",
        "loss_short_elmam, accuracy_short_elman, history_short_elman = train_and_evaluate_model(\n",
        "    rnn_model_short_elman, x_train_short, y_train, x_test_short, y_test\n",
        ")\n",
        "\n",
        "print(\"\\nTraining RNN Jordan model on short sequences:\")\n",
        "rnn_model_short_jordan = build_jordan_rnn_model()\n",
        "loss_short_jordan, accuracy_short_jordan, history_short_jordan = train_and_evaluate_model(\n",
        "    rnn_model_short_jordan, x_train_short, y_train, x_test_short, y_test\n",
        ")\n",
        "\n",
        "print(\"\\nTraining RNN Bidirectional model on short sequences:\")\n",
        "rnn_model_short_bidirection = build_bidirectional_rnn_model()\n",
        "loss_short_bidirection, accuracy_short_bidirection, history_short_bidirection=train_and_evaluate_model(\n",
        "    rnn_model_short_bidirection, x_train_short, y_train, x_test_short, y_test\n",
        ")"
      ]
    },
    {
      "cell_type": "markdown",
      "metadata": {
        "collapsed": false,
        "id": "XLkNPt-bY1O8"
      },
      "source": [
        "6. Train and evaluate the RNN model on long sequences"
      ]
    },
    {
      "cell_type": "code",
      "execution_count": 17,
      "metadata": {
        "colab": {
          "base_uri": "https://localhost:8080/"
        },
        "id": "0Da_ZtkYY1O9",
        "outputId": "9b8c2aa9-3d64-40a5-8dc7-c6dd65062587"
      },
      "outputs": [
        {
          "output_type": "stream",
          "name": "stdout",
          "text": [
            "\n",
            "Training Elman RNN model on long sequences:\n",
            "Epoch 1/5\n",
            "157/157 [==============================] - 19s 116ms/step - loss: 0.6789 - accuracy: 0.5674 - val_loss: 0.6587 - val_accuracy: 0.6272\n",
            "Epoch 2/5\n",
            "157/157 [==============================] - 17s 109ms/step - loss: 0.5716 - accuracy: 0.7144 - val_loss: 0.7335 - val_accuracy: 0.7430\n",
            "Epoch 3/5\n",
            "157/157 [==============================] - 18s 113ms/step - loss: 0.4391 - accuracy: 0.7979 - val_loss: 0.5448 - val_accuracy: 0.7050\n",
            "Epoch 4/5\n",
            "157/157 [==============================] - 17s 110ms/step - loss: 0.3905 - accuracy: 0.8293 - val_loss: 0.4045 - val_accuracy: 0.8360\n",
            "Epoch 5/5\n",
            "157/157 [==============================] - 18s 115ms/step - loss: 0.3064 - accuracy: 0.8691 - val_loss: 0.4076 - val_accuracy: 0.8284\n",
            "782/782 [==============================] - 13s 17ms/step - loss: 0.3962 - accuracy: 0.8318\n",
            "\n",
            "Training Jordan RNN model on long sequences:\n",
            "Epoch 1/5\n",
            "157/157 [==============================] - 23s 137ms/step - loss: 0.5811 - accuracy: 0.7304 - val_loss: 0.3763 - val_accuracy: 0.8310\n",
            "Epoch 2/5\n",
            "157/157 [==============================] - 20s 130ms/step - loss: 0.3224 - accuracy: 0.8659 - val_loss: 0.3182 - val_accuracy: 0.8624\n",
            "Epoch 3/5\n",
            "157/157 [==============================] - 21s 136ms/step - loss: 0.2311 - accuracy: 0.9079 - val_loss: 0.3452 - val_accuracy: 0.8686\n",
            "Epoch 4/5\n",
            "157/157 [==============================] - 22s 139ms/step - loss: 0.1915 - accuracy: 0.9272 - val_loss: 0.3066 - val_accuracy: 0.8732\n",
            "Epoch 5/5\n",
            "157/157 [==============================] - 21s 133ms/step - loss: 0.1705 - accuracy: 0.9391 - val_loss: 0.3178 - val_accuracy: 0.8668\n",
            "782/782 [==============================] - 13s 17ms/step - loss: 0.3320 - accuracy: 0.8550\n",
            "\n",
            "Training Bidireccional RNN model on long sequences:\n",
            "Epoch 1/5\n",
            "157/157 [==============================] - 34s 202ms/step - loss: 0.6297 - accuracy: 0.6391 - val_loss: 0.5432 - val_accuracy: 0.7526\n",
            "Epoch 2/5\n",
            "157/157 [==============================] - 33s 210ms/step - loss: 0.3859 - accuracy: 0.8361 - val_loss: 0.3613 - val_accuracy: 0.8476\n",
            "Epoch 3/5\n",
            "157/157 [==============================] - 32s 202ms/step - loss: 0.2878 - accuracy: 0.8847 - val_loss: 0.3283 - val_accuracy: 0.8658\n",
            "Epoch 4/5\n",
            "157/157 [==============================] - 32s 201ms/step - loss: 0.2641 - accuracy: 0.8961 - val_loss: 0.3619 - val_accuracy: 0.8526\n",
            "Epoch 5/5\n",
            "157/157 [==============================] - 31s 199ms/step - loss: 0.2310 - accuracy: 0.9103 - val_loss: 0.3431 - val_accuracy: 0.8730\n",
            "782/782 [==============================] - 19s 24ms/step - loss: 0.3430 - accuracy: 0.8653\n"
          ]
        }
      ],
      "source": [
        "print(\"\\nTraining Elman RNN model on long sequences:\")\n",
        "rnn_model_long_elman = build_elman_rnn_model()\n",
        "loss_long_elman, accuracy_long_elman, history_long_elman = train_and_evaluate_model(\n",
        "    rnn_model_long_elman, x_train_long, y_train, x_test_long, y_test\n",
        ")\n",
        "\n",
        "print(\"\\nTraining Jordan RNN model on long sequences:\")\n",
        "rnn_model_long_jordan = build_jordan_rnn_model()\n",
        "loss_long_jordan, accuracy_long_jordan, history_long_jordan = train_and_evaluate_model(\n",
        "    rnn_model_long_jordan, x_train_long, y_train, x_test_long, y_test\n",
        ")\n",
        "\n",
        "print(\"\\nTraining Bidireccional RNN model on long sequences:\")\n",
        "rnn_model_long_bidirection = build_bidirectional_rnn_model()\n",
        "loss_long_bidirection, accuracy_long_bidirection, history_long_bidirection = train_and_evaluate_model(\n",
        "    rnn_model_long_bidirection, x_train_long, y_train, x_test_long, y_test\n",
        ")"
      ]
    },
    {
      "cell_type": "markdown",
      "metadata": {
        "collapsed": false,
        "id": "Sm5CV0USY1O_"
      },
      "source": [
        "7. Compare the results"
      ]
    },
    {
      "cell_type": "code",
      "execution_count": 18,
      "metadata": {
        "colab": {
          "base_uri": "https://localhost:8080/"
        },
        "id": "JgeKVQBiY1PB",
        "outputId": "0e2cb4ac-cb8b-456a-8fba-655664a43507"
      },
      "outputs": [
        {
          "metadata": {
            "tags": null
          },
          "name": "stdout",
          "output_type": "stream",
          "text": [
            "\n",
            "Results on Short Sequences of Elman:\n",
            "Loss: 0.3622, Accuracy: 0.8424\n",
            "\n",
            "Results on Long Sequences of Elman:\n",
            "Loss: 0.3962, Accuracy: 0.8318\n"
          ]
        }
      ],
      "source": [
        "print(\"\\nResults on Short Sequences of Elman:\")\n",
        "print(f\"Loss: {loss_short_elmam:.4f}, Accuracy: {accuracy_short_elman:.4f}\")\n",
        "\n",
        "print(\"\\nResults on Long Sequences of Elman:\")\n",
        "print(f\"Loss: {loss_long_elman:.4f}, Accuracy: {accuracy_long_elman:.4f}\")"
      ]
    },
    {
      "cell_type": "code",
      "source": [
        "print(\"\\nResults on Short Sequences of Jordan:\")\n",
        "print(f\"Loss: {loss_short_jordan:.4f}, Accuracy: {accuracy_short_jordan:.4f}\")\n",
        "\n",
        "print(\"\\nResults on Long Sequences of Jordan:\")\n",
        "print(f\"Loss: {loss_long_jordan:.4f}, Accuracy: {accuracy_long_jordan:.4f}\")"
      ],
      "metadata": {
        "colab": {
          "base_uri": "https://localhost:8080/"
        },
        "id": "O8Z0tbHSqP8y",
        "outputId": "d6e012d4-25fa-4c89-f00c-064245f9a6b7"
      },
      "execution_count": 19,
      "outputs": [
        {
          "metadata": {
            "tags": null
          },
          "name": "stdout",
          "output_type": "stream",
          "text": [
            "\n",
            "Results on Short Sequences of Jordan:\n",
            "Loss: 0.4381, Accuracy: 0.8231\n",
            "\n",
            "Results on Long Sequences of Jordan:\n",
            "Loss: 0.3320, Accuracy: 0.8550\n"
          ]
        }
      ]
    },
    {
      "cell_type": "code",
      "source": [
        "print(\"\\nResults on Short Sequences of Bidirection:\")\n",
        "print(f\"Loss: {loss_short_bidirection:.4f}, Accuracy: {accuracy_short_bidirection:.4f}\")\n",
        "\n",
        "print(\"\\nResults on Long Sequences of Bidirection:\")\n",
        "print(f\"Loss: {loss_long_bidirection:.4f}, Accuracy: {accuracy_long_bidirection:.4f}\")"
      ],
      "metadata": {
        "colab": {
          "base_uri": "https://localhost:8080/"
        },
        "id": "m1_tKr6xqRDD",
        "outputId": "208828ea-ce9c-4a7d-e3b2-df5bc4dfb5b2"
      },
      "execution_count": 20,
      "outputs": [
        {
          "output_type": "stream",
          "name": "stdout",
          "text": [
            "\n",
            "Results on Short Sequences of Bidirection:\n",
            "Loss: 0.3980, Accuracy: 0.8371\n",
            "\n",
            "Results on Long Sequences of Bidirection:\n",
            "Loss: 0.3430, Accuracy: 0.8653\n"
          ]
        }
      ]
    },
    {
      "cell_type": "markdown",
      "source": [
        "Se puede concluir que el modelo de Bidireccional tiene el accurancy mayor a los otros modelos en las secuecnias largas  ya que tiene un 0.8653.\n",
        "Mientras que en las secuencias cortas el modelo se Elman  tiene el accurancy mayor a los otros modelos con un valor de 0.8424.\n",
        "\n",
        "Ahoara en la perdida con mayor porcentaje es el modelo de jordan  con un valor de 0.4381 para las secuencias cortas comparado con los otros modelos, mientras que para las secuencias  largas el modelo con mayor perdida es el de Elman con un valor de 0.3962 comparado con los otros dos modelos."
      ],
      "metadata": {
        "id": "fNxXVDTpu67d"
      }
    }
  ],
  "metadata": {
    "colab": {
      "provenance": []
    },
    "kernelspec": {
      "display_name": "Python 3",
      "language": "python",
      "name": "python3"
    },
    "language_info": {
      "codemirror_mode": {
        "name": "ipython",
        "version": 2
      },
      "file_extension": ".py",
      "mimetype": "text/x-python",
      "name": "python",
      "nbconvert_exporter": "python",
      "pygments_lexer": "ipython2",
      "version": "2.7.6"
    }
  },
  "nbformat": 4,
  "nbformat_minor": 0
}